{
  "metadata": {
    "kernelspec": {
      "language": "python",
      "display_name": "Python 3",
      "name": "python3"
    },
    "language_info": {
      "pygments_lexer": "ipython3",
      "nbconvert_exporter": "python",
      "version": "3.6.4",
      "file_extension": ".py",
      "codemirror_mode": {
        "name": "ipython",
        "version": 3
      },
      "name": "python",
      "mimetype": "text/x-python"
    },
    "colab": {
      "name": "🟡🟡 India's mineral ores 💎💎",
      "provenance": [],
      "include_colab_link": true
    }
  },
  "nbformat_minor": 0,
  "nbformat": 4,
  "cells": [
    {
      "cell_type": "markdown",
      "metadata": {
        "id": "view-in-github",
        "colab_type": "text"
      },
      "source": [
        "<a href=\"https://colab.research.google.com/github/faturahirwa/all_about_helping_researchers_project/blob/main/%F0%9F%9F%A1%F0%9F%9F%A1_India's_mineral_ores_%F0%9F%92%8E%F0%9F%92%8E.ipynb\" target=\"_parent\"><img src=\"https://colab.research.google.com/assets/colab-badge.svg\" alt=\"Open In Colab\"/></a>"
      ]
    },
    {
      "source": [
        "# IMPORTANT: RUN THIS CELL IN ORDER TO IMPORT YOUR KAGGLE DATA SOURCES,\n",
        "# THEN FEEL FREE TO DELETE THIS CELL.\n",
        "# NOTE: THIS NOTEBOOK ENVIRONMENT DIFFERS FROM KAGGLE'S PYTHON\n",
        "# ENVIRONMENT SO THERE MAY BE MISSING LIBRARIES USED BY YOUR\n",
        "# NOTEBOOK.\n",
        "import kagglehub\n",
        "danishxr_poptable_path = kagglehub.dataset_download('danishxr/poptable')\n",
        "nehaprabhavalkar_india_gis_data_path = kagglehub.dataset_download('nehaprabhavalkar/india-gis-data')\n",
        "ramjasmaurya_mineral_ores_around_the_world_path = kagglehub.dataset_download('ramjasmaurya/mineral-ores-around-the-world')\n",
        "\n",
        "print('Data source import complete.')\n"
      ],
      "metadata": {
        "id": "UML4vD48hcUT",
        "outputId": "1a1ac353-1780-4ef6-f73c-5dcb33c6670e",
        "colab": {
          "base_uri": "https://localhost:8080/"
        }
      },
      "cell_type": "code",
      "outputs": [
        {
          "output_type": "stream",
          "name": "stdout",
          "text": [
            "Data source import complete.\n"
          ]
        }
      ],
      "execution_count": 2
    },
    {
      "cell_type": "markdown",
      "source": [
        "<p style=\"text-align:center;\"><img src=\"https://images.unsplash.com/photo-1510655434463-c721ffcc3623?ixlib=rb-1.2.1&ixid=MnwxMjA3fDB8MHxzZWFyY2h8MXx8Z29sZCUyMG1pbmluZ3xlbnwwfHwwfHw%3D&auto=format&fit=crop&w=500&q=60\"></p>\n",
        "\n",
        "**Credit to Unsplash**\n",
        "\n",
        "<h1 style=\"text-align:center\">India's Mineral Ores</h1>\n",
        "    \n",
        "### <center style=\"text-align:center;background-color: #D7E6AC\"><u>Introduction to mining in India</u></center>\n",
        "    \n",
        "> <p>The mining industry in India is a major economic activity which contributes significantly to the economy of India. The GDP contribution of the mining industry varies from 2.2% to 2.5% only but going by the GDP of the total industrial sector it contributes around 10% to 11%. Even mining done on small scale contributes 6% to the entire cost of mineral production. Indian mining industry provides job opportunities to around 700,000 individuals.</p>\n",
        ">    \n",
        "> <p>As of 2012, India is the largest producer of sheet mica, 2015 the fourth largest producer of iron ore, alumina, chromite, and bauxite in the world. A coal and iron ore project is in the fifth largest reserve in world. India's metal and mining industry was estimated to be &#36;106.4 billion in 2010.</p>\n",
        ">\n",
        "> <p>In 2019, the country was the 4th largest world producer of iron ore; 4th largest worldwide producer of chromium; 5th largest world producer of bauxite; 5th largest world producer of zinc; 7th largest producer of manganese in the world; 7th largest producer of lead in the world; 7th largest producer of sulfur in the world; 11th largest world producer of titanium; 18th largest world producer of phosphate; 16th largest world producer of gypsum; 5th largest world producer of graphite; 3rd largest world producer of salt. It was the 11th the world's largest producer of uranium in 2018.</p>\n",
        ">\n",
        "> <p>Mining in India has been prominent since ancient times. The field is noted for significantly contributing to the economy of the nation. However, the mining in India is also infamous for human rights violations and environmental pollution. The industry has been hit by several high-profile mining scandals in recent times.</p>\n",
        ">\n",
        ">\n",
        "\n",
        "<h3 style=\"text-align:center;background-color:#D7E6AC\"><u>History</u></h3>\n",
        "\n",
        "> <p>Flint was known and exploited by the inhabitants of the Indus Valley civilization by the 3rd millennium BCE.P. Biagi and M. Cremaschi of Milan University discovered a number of Harappan quarries in archaeological excavations dating between 1985 and 1986.Biagi (2008) describes the quarries: 'From the surface the quarries consisted of almost circular empty areas, representing the quarry–pits, filled with aeolian sand, blown from the Thar Desert dunes, and heaps of limestone block, deriving from the prehistoric mining activity. All around these structures flint workshops were noticed, represented by scatters of flint flakes and blades among which typical Harappan-elongated blade cores and characteristic bullet cores with very narrow bladelet detachments.'Between 1995 and 1998, Accelerator mass spectrometry radiocarbon dating of Zyzyphus cf. nummularia charcoal found in the quarries has yielded evidence that the activity continued into 1870-1800 BCE.</p>\n",
        ">\n",
        "To Know more Visit the Wikipedia page: https://en.wikipedia.org/wiki/Mining_in_India"
      ],
      "metadata": {
        "id": "RF41bgWuhcUZ"
      }
    },
    {
      "cell_type": "markdown",
      "source": [
        "### <center style=\"text-align:center;background-color: #D7E6AC\"><u>Objective</u></center>\n",
        "\n",
        "> <p>Make a Extraction of Information about Indian's Mineral Ores.</p>"
      ],
      "metadata": {
        "id": "KUUNzJmohcUc"
      }
    },
    {
      "cell_type": "markdown",
      "source": [
        "### <center style=\"text-align:center;background-color: #D7E6AC\"><u>Libraries Used in Notebook</u></center>\n",
        "\n",
        "*     Numpy\n",
        "*     Pandas\n",
        "*     Matplotlib\n",
        "*     Seaborn\n",
        "*     Geopandas\n",
        "*     Upsetplot\n",
        "*     Plotnine\n",
        "\n"
      ],
      "metadata": {
        "id": "IG7wINm8hcUd"
      }
    },
    {
      "cell_type": "code",
      "source": [
        "# This Python 3 environment comes with many helpful analytics libraries installed\n",
        "# It is defined by the kaggle/python Docker image: https://github.com/kaggle/docker-python\n",
        "# For example, here's several helpful packages to load\n",
        "\n",
        "import numpy as np # linear algebra\n",
        "import pandas as pd # data processing, CSV file I/O (e.g. pd.read_csv)\n",
        "\n",
        "# Input data files are available in the read-only \"../input/\" directory\n",
        "# For example, running this (by clicking run or pressing Shift+Enter) will list all files under the input directory\n",
        "\n",
        "import os\n",
        "for dirname, _, filenames in os.walk('/kaggle/input'):\n",
        "    for filename in filenames:\n",
        "        print(os.path.join(dirname, filename))\n",
        "\n",
        "# You can write up to 20GB to the current directory (/kaggle/working/) that gets preserved as output when you create a version using \"Save & Run All\"\n",
        "# You can also write temporary files to /kaggle/temp/, but they won't be saved outside of the current session"
      ],
      "metadata": {
        "_uuid": "8f2839f25d086af736a60e9eeb907d3b93b6e0e5",
        "_cell_guid": "b1076dfc-b9ad-4769-8c92-a6c4dae69d19",
        "execution": {
          "iopub.status.busy": "2022-09-01T14:37:14.728589Z",
          "iopub.execute_input": "2022-09-01T14:37:14.729025Z",
          "iopub.status.idle": "2022-09-01T14:37:14.768176Z",
          "shell.execute_reply.started": "2022-09-01T14:37:14.728923Z",
          "shell.execute_reply": "2022-09-01T14:37:14.767041Z"
        },
        "trusted": true,
        "id": "6WqkTXsahcUe",
        "outputId": "2df5de7f-e931-4c35-c369-c5acbf51ef91",
        "colab": {
          "base_uri": "https://localhost:8080/"
        }
      },
      "execution_count": 3,
      "outputs": [
        {
          "output_type": "stream",
          "name": "stdout",
          "text": [
            "/kaggle/input/mineral-ores-around-the-world/Mineral ores round the world.csv\n",
            "/kaggle/input/india-gis-data/India States/Indian_states.shp\n",
            "/kaggle/input/india-gis-data/India States/Indian_states.prj\n",
            "/kaggle/input/india-gis-data/India States/Indian_states.dbf\n",
            "/kaggle/input/india-gis-data/India States/Indian_states.shx\n",
            "/kaggle/input/india-gis-data/India Boundary/India_boundary.dbf\n",
            "/kaggle/input/india-gis-data/India Boundary/India_boundary.prj\n",
            "/kaggle/input/india-gis-data/India Boundary/India_boundary.shx\n",
            "/kaggle/input/india-gis-data/India Boundary/India_boundary.shp\n",
            "/kaggle/input/poptable/poptable.csv\n"
          ]
        }
      ]
    },
    {
      "cell_type": "code",
      "source": [
        "import numpy as np # linear algebra\n",
        "import pandas as pd # data processing, CSV file I/O (e.g. pd.read_csv)\n",
        "import seaborn as sns\n",
        "import matplotlib.pyplot as plt\n",
        "import geopandas as geo\n",
        "import warnings\n",
        "warnings.filterwarnings(\"ignore\")\n",
        "%matplotlib inline"
      ],
      "metadata": {
        "execution": {
          "iopub.status.busy": "2022-09-01T14:37:14.769648Z",
          "iopub.execute_input": "2022-09-01T14:37:14.76996Z",
          "iopub.status.idle": "2022-09-01T14:37:15.901151Z",
          "shell.execute_reply.started": "2022-09-01T14:37:14.769925Z",
          "shell.execute_reply": "2022-09-01T14:37:15.900329Z"
        },
        "trusted": true,
        "id": "8gUcVpayhcUf"
      },
      "execution_count": 4,
      "outputs": []
    },
    {
      "cell_type": "code",
      "source": [
        "df=pd.read_csv(\"../input/mineral-ores-around-the-world/Mineral ores round the world.csv\")\n",
        "df.head()"
      ],
      "metadata": {
        "execution": {
          "iopub.status.busy": "2022-09-01T14:37:15.902432Z",
          "iopub.execute_input": "2022-09-01T14:37:15.902691Z",
          "iopub.status.idle": "2022-09-01T14:37:17.098595Z",
          "shell.execute_reply.started": "2022-09-01T14:37:15.902658Z",
          "shell.execute_reply": "2022-09-01T14:37:17.097906Z"
        },
        "trusted": true,
        "id": "PQsVdpaPhcUg",
        "outputId": "45dc0db1-649b-4381-f85d-eb28fe7843c9",
        "colab": {
          "base_uri": "https://localhost:8080/",
          "height": 321
        }
      },
      "execution_count": 5,
      "outputs": [
        {
          "output_type": "error",
          "ename": "FileNotFoundError",
          "evalue": "[Errno 2] No such file or directory: '../input/mineral-ores-around-the-world/Mineral ores round the world.csv'",
          "traceback": [
            "\u001b[0;31m---------------------------------------------------------------------------\u001b[0m",
            "\u001b[0;31mFileNotFoundError\u001b[0m                         Traceback (most recent call last)",
            "\u001b[0;32m<ipython-input-5-fb87d9c7a8ba>\u001b[0m in \u001b[0;36m<cell line: 0>\u001b[0;34m()\u001b[0m\n\u001b[0;32m----> 1\u001b[0;31m \u001b[0mdf\u001b[0m\u001b[0;34m=\u001b[0m\u001b[0mpd\u001b[0m\u001b[0;34m.\u001b[0m\u001b[0mread_csv\u001b[0m\u001b[0;34m(\u001b[0m\u001b[0;34m\"../input/mineral-ores-around-the-world/Mineral ores round the world.csv\"\u001b[0m\u001b[0;34m)\u001b[0m\u001b[0;34m\u001b[0m\u001b[0;34m\u001b[0m\u001b[0m\n\u001b[0m\u001b[1;32m      2\u001b[0m \u001b[0mdf\u001b[0m\u001b[0;34m.\u001b[0m\u001b[0mhead\u001b[0m\u001b[0;34m(\u001b[0m\u001b[0;34m)\u001b[0m\u001b[0;34m\u001b[0m\u001b[0;34m\u001b[0m\u001b[0m\n",
            "\u001b[0;32m/usr/local/lib/python3.11/dist-packages/pandas/io/parsers/readers.py\u001b[0m in \u001b[0;36mread_csv\u001b[0;34m(filepath_or_buffer, sep, delimiter, header, names, index_col, usecols, dtype, engine, converters, true_values, false_values, skipinitialspace, skiprows, skipfooter, nrows, na_values, keep_default_na, na_filter, verbose, skip_blank_lines, parse_dates, infer_datetime_format, keep_date_col, date_parser, date_format, dayfirst, cache_dates, iterator, chunksize, compression, thousands, decimal, lineterminator, quotechar, quoting, doublequote, escapechar, comment, encoding, encoding_errors, dialect, on_bad_lines, delim_whitespace, low_memory, memory_map, float_precision, storage_options, dtype_backend)\u001b[0m\n\u001b[1;32m   1024\u001b[0m     \u001b[0mkwds\u001b[0m\u001b[0;34m.\u001b[0m\u001b[0mupdate\u001b[0m\u001b[0;34m(\u001b[0m\u001b[0mkwds_defaults\u001b[0m\u001b[0;34m)\u001b[0m\u001b[0;34m\u001b[0m\u001b[0;34m\u001b[0m\u001b[0m\n\u001b[1;32m   1025\u001b[0m \u001b[0;34m\u001b[0m\u001b[0m\n\u001b[0;32m-> 1026\u001b[0;31m     \u001b[0;32mreturn\u001b[0m \u001b[0m_read\u001b[0m\u001b[0;34m(\u001b[0m\u001b[0mfilepath_or_buffer\u001b[0m\u001b[0;34m,\u001b[0m \u001b[0mkwds\u001b[0m\u001b[0;34m)\u001b[0m\u001b[0;34m\u001b[0m\u001b[0;34m\u001b[0m\u001b[0m\n\u001b[0m\u001b[1;32m   1027\u001b[0m \u001b[0;34m\u001b[0m\u001b[0m\n\u001b[1;32m   1028\u001b[0m \u001b[0;34m\u001b[0m\u001b[0m\n",
            "\u001b[0;32m/usr/local/lib/python3.11/dist-packages/pandas/io/parsers/readers.py\u001b[0m in \u001b[0;36m_read\u001b[0;34m(filepath_or_buffer, kwds)\u001b[0m\n\u001b[1;32m    618\u001b[0m \u001b[0;34m\u001b[0m\u001b[0m\n\u001b[1;32m    619\u001b[0m     \u001b[0;31m# Create the parser.\u001b[0m\u001b[0;34m\u001b[0m\u001b[0;34m\u001b[0m\u001b[0m\n\u001b[0;32m--> 620\u001b[0;31m     \u001b[0mparser\u001b[0m \u001b[0;34m=\u001b[0m \u001b[0mTextFileReader\u001b[0m\u001b[0;34m(\u001b[0m\u001b[0mfilepath_or_buffer\u001b[0m\u001b[0;34m,\u001b[0m \u001b[0;34m**\u001b[0m\u001b[0mkwds\u001b[0m\u001b[0;34m)\u001b[0m\u001b[0;34m\u001b[0m\u001b[0;34m\u001b[0m\u001b[0m\n\u001b[0m\u001b[1;32m    621\u001b[0m \u001b[0;34m\u001b[0m\u001b[0m\n\u001b[1;32m    622\u001b[0m     \u001b[0;32mif\u001b[0m \u001b[0mchunksize\u001b[0m \u001b[0;32mor\u001b[0m \u001b[0miterator\u001b[0m\u001b[0;34m:\u001b[0m\u001b[0;34m\u001b[0m\u001b[0;34m\u001b[0m\u001b[0m\n",
            "\u001b[0;32m/usr/local/lib/python3.11/dist-packages/pandas/io/parsers/readers.py\u001b[0m in \u001b[0;36m__init__\u001b[0;34m(self, f, engine, **kwds)\u001b[0m\n\u001b[1;32m   1618\u001b[0m \u001b[0;34m\u001b[0m\u001b[0m\n\u001b[1;32m   1619\u001b[0m         \u001b[0mself\u001b[0m\u001b[0;34m.\u001b[0m\u001b[0mhandles\u001b[0m\u001b[0;34m:\u001b[0m \u001b[0mIOHandles\u001b[0m \u001b[0;34m|\u001b[0m \u001b[0;32mNone\u001b[0m \u001b[0;34m=\u001b[0m \u001b[0;32mNone\u001b[0m\u001b[0;34m\u001b[0m\u001b[0;34m\u001b[0m\u001b[0m\n\u001b[0;32m-> 1620\u001b[0;31m         \u001b[0mself\u001b[0m\u001b[0;34m.\u001b[0m\u001b[0m_engine\u001b[0m \u001b[0;34m=\u001b[0m \u001b[0mself\u001b[0m\u001b[0;34m.\u001b[0m\u001b[0m_make_engine\u001b[0m\u001b[0;34m(\u001b[0m\u001b[0mf\u001b[0m\u001b[0;34m,\u001b[0m \u001b[0mself\u001b[0m\u001b[0;34m.\u001b[0m\u001b[0mengine\u001b[0m\u001b[0;34m)\u001b[0m\u001b[0;34m\u001b[0m\u001b[0;34m\u001b[0m\u001b[0m\n\u001b[0m\u001b[1;32m   1621\u001b[0m \u001b[0;34m\u001b[0m\u001b[0m\n\u001b[1;32m   1622\u001b[0m     \u001b[0;32mdef\u001b[0m \u001b[0mclose\u001b[0m\u001b[0;34m(\u001b[0m\u001b[0mself\u001b[0m\u001b[0;34m)\u001b[0m \u001b[0;34m->\u001b[0m \u001b[0;32mNone\u001b[0m\u001b[0;34m:\u001b[0m\u001b[0;34m\u001b[0m\u001b[0;34m\u001b[0m\u001b[0m\n",
            "\u001b[0;32m/usr/local/lib/python3.11/dist-packages/pandas/io/parsers/readers.py\u001b[0m in \u001b[0;36m_make_engine\u001b[0;34m(self, f, engine)\u001b[0m\n\u001b[1;32m   1878\u001b[0m                 \u001b[0;32mif\u001b[0m \u001b[0;34m\"b\"\u001b[0m \u001b[0;32mnot\u001b[0m \u001b[0;32min\u001b[0m \u001b[0mmode\u001b[0m\u001b[0;34m:\u001b[0m\u001b[0;34m\u001b[0m\u001b[0;34m\u001b[0m\u001b[0m\n\u001b[1;32m   1879\u001b[0m                     \u001b[0mmode\u001b[0m \u001b[0;34m+=\u001b[0m \u001b[0;34m\"b\"\u001b[0m\u001b[0;34m\u001b[0m\u001b[0;34m\u001b[0m\u001b[0m\n\u001b[0;32m-> 1880\u001b[0;31m             self.handles = get_handle(\n\u001b[0m\u001b[1;32m   1881\u001b[0m                 \u001b[0mf\u001b[0m\u001b[0;34m,\u001b[0m\u001b[0;34m\u001b[0m\u001b[0;34m\u001b[0m\u001b[0m\n\u001b[1;32m   1882\u001b[0m                 \u001b[0mmode\u001b[0m\u001b[0;34m,\u001b[0m\u001b[0;34m\u001b[0m\u001b[0;34m\u001b[0m\u001b[0m\n",
            "\u001b[0;32m/usr/local/lib/python3.11/dist-packages/pandas/io/common.py\u001b[0m in \u001b[0;36mget_handle\u001b[0;34m(path_or_buf, mode, encoding, compression, memory_map, is_text, errors, storage_options)\u001b[0m\n\u001b[1;32m    871\u001b[0m         \u001b[0;32mif\u001b[0m \u001b[0mioargs\u001b[0m\u001b[0;34m.\u001b[0m\u001b[0mencoding\u001b[0m \u001b[0;32mand\u001b[0m \u001b[0;34m\"b\"\u001b[0m \u001b[0;32mnot\u001b[0m \u001b[0;32min\u001b[0m \u001b[0mioargs\u001b[0m\u001b[0;34m.\u001b[0m\u001b[0mmode\u001b[0m\u001b[0;34m:\u001b[0m\u001b[0;34m\u001b[0m\u001b[0;34m\u001b[0m\u001b[0m\n\u001b[1;32m    872\u001b[0m             \u001b[0;31m# Encoding\u001b[0m\u001b[0;34m\u001b[0m\u001b[0;34m\u001b[0m\u001b[0m\n\u001b[0;32m--> 873\u001b[0;31m             handle = open(\n\u001b[0m\u001b[1;32m    874\u001b[0m                 \u001b[0mhandle\u001b[0m\u001b[0;34m,\u001b[0m\u001b[0;34m\u001b[0m\u001b[0;34m\u001b[0m\u001b[0m\n\u001b[1;32m    875\u001b[0m                 \u001b[0mioargs\u001b[0m\u001b[0;34m.\u001b[0m\u001b[0mmode\u001b[0m\u001b[0;34m,\u001b[0m\u001b[0;34m\u001b[0m\u001b[0;34m\u001b[0m\u001b[0m\n",
            "\u001b[0;31mFileNotFoundError\u001b[0m: [Errno 2] No such file or directory: '../input/mineral-ores-around-the-world/Mineral ores round the world.csv'"
          ]
        }
      ]
    },
    {
      "cell_type": "markdown",
      "source": [
        "<hr>\n",
        "\n",
        "### <center style=\"text-align:center;background-color: #D7E6AC\"><u>Visualization of mineral ores on World Map</u></center>"
      ],
      "metadata": {
        "id": "QIr_fXGYhcUg"
      }
    },
    {
      "cell_type": "code",
      "source": [
        "from shapely.geometry import Polygon,Point\n",
        "import geoplot\n",
        "world = geo.read_file(geo.datasets.get_path('naturalearth_lowres'))"
      ],
      "metadata": {
        "execution": {
          "iopub.status.busy": "2022-09-01T14:37:17.100634Z",
          "iopub.execute_input": "2022-09-01T14:37:17.102147Z",
          "iopub.status.idle": "2022-09-01T14:37:18.786765Z",
          "shell.execute_reply.started": "2022-09-01T14:37:17.102106Z",
          "shell.execute_reply": "2022-09-01T14:37:18.786034Z"
        },
        "trusted": true,
        "id": "VaIwvvFBhcUh"
      },
      "execution_count": null,
      "outputs": []
    },
    {
      "cell_type": "code",
      "source": [
        "world1=df[\"country\"].value_counts().to_frame().reset_index()\n",
        "world1[\"index\"]=world1[\"index\"].replace({\"United States\":'United States of America'})\n",
        "world1=world1.rename(columns={\"index\":\"name\"})\n",
        "world=world[[\"name\",\"geometry\"]].merge(world1,on=\"name\")\n",
        "import mapclassify\n",
        "site_counts = world[\"country\"]\n",
        "scheme = mapclassify.MaximumBreaks(site_counts)\n",
        "\n",
        "# Note: this code sample requires geoplot>=0.4.0.\n",
        "geoplot.choropleth(\n",
        "    world, hue=site_counts, scheme=scheme,\n",
        "    cmap='Paired', figsize=(16, 8)\n",
        ")\n",
        "plt.show() #some datas are missing really sorry for that."
      ],
      "metadata": {
        "execution": {
          "iopub.status.busy": "2022-09-01T14:37:18.788275Z",
          "iopub.execute_input": "2022-09-01T14:37:18.788535Z",
          "iopub.status.idle": "2022-09-01T14:37:19.45321Z",
          "shell.execute_reply.started": "2022-09-01T14:37:18.788501Z",
          "shell.execute_reply": "2022-09-01T14:37:19.452539Z"
        },
        "trusted": true,
        "id": "xrnEL-kQhcUh",
        "outputId": "d715ba08-0844-41d3-89d5-927246c0c89c",
        "colab": {
          "base_uri": "https://localhost:8080/",
          "height": 211
        }
      },
      "execution_count": 6,
      "outputs": [
        {
          "output_type": "error",
          "ename": "NameError",
          "evalue": "name 'df' is not defined",
          "traceback": [
            "\u001b[0;31m---------------------------------------------------------------------------\u001b[0m",
            "\u001b[0;31mNameError\u001b[0m                                 Traceback (most recent call last)",
            "\u001b[0;32m<ipython-input-6-6492662b7a53>\u001b[0m in \u001b[0;36m<cell line: 0>\u001b[0;34m()\u001b[0m\n\u001b[0;32m----> 1\u001b[0;31m \u001b[0mworld1\u001b[0m\u001b[0;34m=\u001b[0m\u001b[0mdf\u001b[0m\u001b[0;34m[\u001b[0m\u001b[0;34m\"country\"\u001b[0m\u001b[0;34m]\u001b[0m\u001b[0;34m.\u001b[0m\u001b[0mvalue_counts\u001b[0m\u001b[0;34m(\u001b[0m\u001b[0;34m)\u001b[0m\u001b[0;34m.\u001b[0m\u001b[0mto_frame\u001b[0m\u001b[0;34m(\u001b[0m\u001b[0;34m)\u001b[0m\u001b[0;34m.\u001b[0m\u001b[0mreset_index\u001b[0m\u001b[0;34m(\u001b[0m\u001b[0;34m)\u001b[0m\u001b[0;34m\u001b[0m\u001b[0;34m\u001b[0m\u001b[0m\n\u001b[0m\u001b[1;32m      2\u001b[0m \u001b[0mworld1\u001b[0m\u001b[0;34m[\u001b[0m\u001b[0;34m\"index\"\u001b[0m\u001b[0;34m]\u001b[0m\u001b[0;34m=\u001b[0m\u001b[0mworld1\u001b[0m\u001b[0;34m[\u001b[0m\u001b[0;34m\"index\"\u001b[0m\u001b[0;34m]\u001b[0m\u001b[0;34m.\u001b[0m\u001b[0mreplace\u001b[0m\u001b[0;34m(\u001b[0m\u001b[0;34m{\u001b[0m\u001b[0;34m\"United States\"\u001b[0m\u001b[0;34m:\u001b[0m\u001b[0;34m'United States of America'\u001b[0m\u001b[0;34m}\u001b[0m\u001b[0;34m)\u001b[0m\u001b[0;34m\u001b[0m\u001b[0;34m\u001b[0m\u001b[0m\n\u001b[1;32m      3\u001b[0m \u001b[0mworld1\u001b[0m\u001b[0;34m=\u001b[0m\u001b[0mworld1\u001b[0m\u001b[0;34m.\u001b[0m\u001b[0mrename\u001b[0m\u001b[0;34m(\u001b[0m\u001b[0mcolumns\u001b[0m\u001b[0;34m=\u001b[0m\u001b[0;34m{\u001b[0m\u001b[0;34m\"index\"\u001b[0m\u001b[0;34m:\u001b[0m\u001b[0;34m\"name\"\u001b[0m\u001b[0;34m}\u001b[0m\u001b[0;34m)\u001b[0m\u001b[0;34m\u001b[0m\u001b[0;34m\u001b[0m\u001b[0m\n\u001b[1;32m      4\u001b[0m \u001b[0mworld\u001b[0m\u001b[0;34m=\u001b[0m\u001b[0mworld\u001b[0m\u001b[0;34m[\u001b[0m\u001b[0;34m[\u001b[0m\u001b[0;34m\"name\"\u001b[0m\u001b[0;34m,\u001b[0m\u001b[0;34m\"geometry\"\u001b[0m\u001b[0;34m]\u001b[0m\u001b[0;34m]\u001b[0m\u001b[0;34m.\u001b[0m\u001b[0mmerge\u001b[0m\u001b[0;34m(\u001b[0m\u001b[0mworld1\u001b[0m\u001b[0;34m,\u001b[0m\u001b[0mon\u001b[0m\u001b[0;34m=\u001b[0m\u001b[0;34m\"name\"\u001b[0m\u001b[0;34m)\u001b[0m\u001b[0;34m\u001b[0m\u001b[0;34m\u001b[0m\u001b[0m\n\u001b[1;32m      5\u001b[0m \u001b[0;32mimport\u001b[0m \u001b[0mmapclassify\u001b[0m\u001b[0;34m\u001b[0m\u001b[0;34m\u001b[0m\u001b[0m\n",
            "\u001b[0;31mNameError\u001b[0m: name 'df' is not defined"
          ]
        }
      ]
    },
    {
      "cell_type": "markdown",
      "source": [
        "> <p style=\"text-align:left\">USA,Mexico,Chile,Peru,Argentina has most number of sites.</p>"
      ],
      "metadata": {
        "_kg_hide-output": false,
        "_kg_hide-input": false,
        "id": "bLOK_F0khcUi"
      }
    },
    {
      "cell_type": "markdown",
      "source": [
        "<hr>\n",
        "\n",
        "### <center  style=\"text-align:center;background-color: #D7E6AC\"><u>Visualization of mineral ores on India Map</u></center>"
      ],
      "metadata": {
        "id": "BHZopjlUhcUi"
      }
    },
    {
      "cell_type": "code",
      "source": [
        "#Our key focus is India.\n",
        "india_df=df[df[\"country\"]==\"India\"]\n",
        "india_df=india_df.reset_index().drop(columns=[\"index\"])\n",
        "india_df.head() # taking india's ores only.\n",
        "india_df[\"state\"]=india_df['state'].replace({'Orissa': 'Odisha', 'Tamil Nadu [Madras]': 'Tamil Nadu'})"
      ],
      "metadata": {
        "execution": {
          "iopub.status.busy": "2022-09-01T14:40:36.742969Z",
          "iopub.execute_input": "2022-09-01T14:40:36.743434Z",
          "iopub.status.idle": "2022-09-01T14:40:36.773041Z",
          "shell.execute_reply.started": "2022-09-01T14:40:36.743382Z",
          "shell.execute_reply": "2022-09-01T14:40:36.772331Z"
        },
        "trusted": true,
        "id": "QdzxcKLRhcUi",
        "outputId": "e365aaf8-9c42-444e-864a-8a776838ff0c",
        "colab": {
          "base_uri": "https://localhost:8080/",
          "height": 211
        }
      },
      "execution_count": 7,
      "outputs": [
        {
          "output_type": "error",
          "ename": "NameError",
          "evalue": "name 'df' is not defined",
          "traceback": [
            "\u001b[0;31m---------------------------------------------------------------------------\u001b[0m",
            "\u001b[0;31mNameError\u001b[0m                                 Traceback (most recent call last)",
            "\u001b[0;32m<ipython-input-7-489c181c598c>\u001b[0m in \u001b[0;36m<cell line: 0>\u001b[0;34m()\u001b[0m\n\u001b[1;32m      1\u001b[0m \u001b[0;31m#Our key focus is India.\u001b[0m\u001b[0;34m\u001b[0m\u001b[0;34m\u001b[0m\u001b[0m\n\u001b[0;32m----> 2\u001b[0;31m \u001b[0mindia_df\u001b[0m\u001b[0;34m=\u001b[0m\u001b[0mdf\u001b[0m\u001b[0;34m[\u001b[0m\u001b[0mdf\u001b[0m\u001b[0;34m[\u001b[0m\u001b[0;34m\"country\"\u001b[0m\u001b[0;34m]\u001b[0m\u001b[0;34m==\u001b[0m\u001b[0;34m\"India\"\u001b[0m\u001b[0;34m]\u001b[0m\u001b[0;34m\u001b[0m\u001b[0;34m\u001b[0m\u001b[0m\n\u001b[0m\u001b[1;32m      3\u001b[0m \u001b[0mindia_df\u001b[0m\u001b[0;34m=\u001b[0m\u001b[0mindia_df\u001b[0m\u001b[0;34m.\u001b[0m\u001b[0mreset_index\u001b[0m\u001b[0;34m(\u001b[0m\u001b[0;34m)\u001b[0m\u001b[0;34m.\u001b[0m\u001b[0mdrop\u001b[0m\u001b[0;34m(\u001b[0m\u001b[0mcolumns\u001b[0m\u001b[0;34m=\u001b[0m\u001b[0;34m[\u001b[0m\u001b[0;34m\"index\"\u001b[0m\u001b[0;34m]\u001b[0m\u001b[0;34m)\u001b[0m\u001b[0;34m\u001b[0m\u001b[0;34m\u001b[0m\u001b[0m\n\u001b[1;32m      4\u001b[0m \u001b[0mindia_df\u001b[0m\u001b[0;34m.\u001b[0m\u001b[0mhead\u001b[0m\u001b[0;34m(\u001b[0m\u001b[0;34m)\u001b[0m \u001b[0;31m# taking india's ores only.\u001b[0m\u001b[0;34m\u001b[0m\u001b[0;34m\u001b[0m\u001b[0m\n\u001b[1;32m      5\u001b[0m \u001b[0mindia_df\u001b[0m\u001b[0;34m[\u001b[0m\u001b[0;34m\"state\"\u001b[0m\u001b[0;34m]\u001b[0m\u001b[0;34m=\u001b[0m\u001b[0mindia_df\u001b[0m\u001b[0;34m[\u001b[0m\u001b[0;34m'state'\u001b[0m\u001b[0;34m]\u001b[0m\u001b[0;34m.\u001b[0m\u001b[0mreplace\u001b[0m\u001b[0;34m(\u001b[0m\u001b[0;34m{\u001b[0m\u001b[0;34m'Orissa'\u001b[0m\u001b[0;34m:\u001b[0m \u001b[0;34m'Odisha'\u001b[0m\u001b[0;34m,\u001b[0m \u001b[0;34m'Tamil Nadu [Madras]'\u001b[0m\u001b[0;34m:\u001b[0m \u001b[0;34m'Tamil Nadu'\u001b[0m\u001b[0;34m}\u001b[0m\u001b[0;34m)\u001b[0m\u001b[0;34m\u001b[0m\u001b[0;34m\u001b[0m\u001b[0m\n",
            "\u001b[0;31mNameError\u001b[0m: name 'df' is not defined"
          ]
        }
      ]
    },
    {
      "cell_type": "code",
      "source": [
        "shp_gdf = geo.read_file('../input/india-gis-data/India States/Indian_states.shp')\n",
        "gdf = geo.GeoDataFrame(\n",
        "    india_df.iloc[:,:5], geometry=geo.points_from_xy(india_df.iloc[:,:5].longitude, india_df.iloc[:,:5].latitude))"
      ],
      "metadata": {
        "execution": {
          "iopub.status.busy": "2022-09-01T14:40:36.77504Z",
          "iopub.execute_input": "2022-09-01T14:40:36.775516Z",
          "iopub.status.idle": "2022-09-01T14:40:36.923564Z",
          "shell.execute_reply.started": "2022-09-01T14:40:36.775483Z",
          "shell.execute_reply": "2022-09-01T14:40:36.922822Z"
        },
        "trusted": true,
        "id": "YqO8HHHjhcUi",
        "outputId": "eaf3b133-8126-4714-a8f1-9bc98f1afb5d",
        "colab": {
          "base_uri": "https://localhost:8080/",
          "height": 408
        }
      },
      "execution_count": 8,
      "outputs": [
        {
          "output_type": "error",
          "ename": "DataSourceError",
          "evalue": "../input/india-gis-data/India States/Indian_states.shp: No such file or directory",
          "traceback": [
            "\u001b[0;31m---------------------------------------------------------------------------\u001b[0m",
            "\u001b[0;31mDataSourceError\u001b[0m                           Traceback (most recent call last)",
            "\u001b[0;32m<ipython-input-8-7252825fc83c>\u001b[0m in \u001b[0;36m<cell line: 0>\u001b[0;34m()\u001b[0m\n\u001b[0;32m----> 1\u001b[0;31m \u001b[0mshp_gdf\u001b[0m \u001b[0;34m=\u001b[0m \u001b[0mgeo\u001b[0m\u001b[0;34m.\u001b[0m\u001b[0mread_file\u001b[0m\u001b[0;34m(\u001b[0m\u001b[0;34m'../input/india-gis-data/India States/Indian_states.shp'\u001b[0m\u001b[0;34m)\u001b[0m\u001b[0;34m\u001b[0m\u001b[0;34m\u001b[0m\u001b[0m\n\u001b[0m\u001b[1;32m      2\u001b[0m gdf = geo.GeoDataFrame(\n\u001b[1;32m      3\u001b[0m     india_df.iloc[:,:5], geometry=geo.points_from_xy(india_df.iloc[:,:5].longitude, india_df.iloc[:,:5].latitude))\n",
            "\u001b[0;32m/usr/local/lib/python3.11/dist-packages/geopandas/io/file.py\u001b[0m in \u001b[0;36m_read_file\u001b[0;34m(filename, bbox, mask, columns, rows, engine, **kwargs)\u001b[0m\n\u001b[1;32m    292\u001b[0m \u001b[0;34m\u001b[0m\u001b[0m\n\u001b[1;32m    293\u001b[0m     \u001b[0;32mif\u001b[0m \u001b[0mengine\u001b[0m \u001b[0;34m==\u001b[0m \u001b[0;34m\"pyogrio\"\u001b[0m\u001b[0;34m:\u001b[0m\u001b[0;34m\u001b[0m\u001b[0;34m\u001b[0m\u001b[0m\n\u001b[0;32m--> 294\u001b[0;31m         return _read_file_pyogrio(\n\u001b[0m\u001b[1;32m    295\u001b[0m             \u001b[0mfilename\u001b[0m\u001b[0;34m,\u001b[0m \u001b[0mbbox\u001b[0m\u001b[0;34m=\u001b[0m\u001b[0mbbox\u001b[0m\u001b[0;34m,\u001b[0m \u001b[0mmask\u001b[0m\u001b[0;34m=\u001b[0m\u001b[0mmask\u001b[0m\u001b[0;34m,\u001b[0m \u001b[0mcolumns\u001b[0m\u001b[0;34m=\u001b[0m\u001b[0mcolumns\u001b[0m\u001b[0;34m,\u001b[0m \u001b[0mrows\u001b[0m\u001b[0;34m=\u001b[0m\u001b[0mrows\u001b[0m\u001b[0;34m,\u001b[0m \u001b[0;34m**\u001b[0m\u001b[0mkwargs\u001b[0m\u001b[0;34m\u001b[0m\u001b[0;34m\u001b[0m\u001b[0m\n\u001b[1;32m    296\u001b[0m         )\n",
            "\u001b[0;32m/usr/local/lib/python3.11/dist-packages/geopandas/io/file.py\u001b[0m in \u001b[0;36m_read_file_pyogrio\u001b[0;34m(path_or_bytes, bbox, mask, rows, **kwargs)\u001b[0m\n\u001b[1;32m    545\u001b[0m         \u001b[0mkwargs\u001b[0m\u001b[0;34m[\u001b[0m\u001b[0;34m\"columns\"\u001b[0m\u001b[0;34m]\u001b[0m \u001b[0;34m=\u001b[0m \u001b[0mkwargs\u001b[0m\u001b[0;34m.\u001b[0m\u001b[0mpop\u001b[0m\u001b[0;34m(\u001b[0m\u001b[0;34m\"include_fields\"\u001b[0m\u001b[0;34m)\u001b[0m\u001b[0;34m\u001b[0m\u001b[0;34m\u001b[0m\u001b[0m\n\u001b[1;32m    546\u001b[0m \u001b[0;34m\u001b[0m\u001b[0m\n\u001b[0;32m--> 547\u001b[0;31m     \u001b[0;32mreturn\u001b[0m \u001b[0mpyogrio\u001b[0m\u001b[0;34m.\u001b[0m\u001b[0mread_dataframe\u001b[0m\u001b[0;34m(\u001b[0m\u001b[0mpath_or_bytes\u001b[0m\u001b[0;34m,\u001b[0m \u001b[0mbbox\u001b[0m\u001b[0;34m=\u001b[0m\u001b[0mbbox\u001b[0m\u001b[0;34m,\u001b[0m \u001b[0;34m**\u001b[0m\u001b[0mkwargs\u001b[0m\u001b[0;34m)\u001b[0m\u001b[0;34m\u001b[0m\u001b[0;34m\u001b[0m\u001b[0m\n\u001b[0m\u001b[1;32m    548\u001b[0m \u001b[0;34m\u001b[0m\u001b[0m\n\u001b[1;32m    549\u001b[0m \u001b[0;34m\u001b[0m\u001b[0m\n",
            "\u001b[0;32m/usr/local/lib/python3.11/dist-packages/pyogrio/geopandas.py\u001b[0m in \u001b[0;36mread_dataframe\u001b[0;34m(path_or_buffer, layer, encoding, columns, read_geometry, force_2d, skip_features, max_features, where, bbox, mask, fids, sql, sql_dialect, fid_as_index, use_arrow, on_invalid, arrow_to_pandas_kwargs, **kwargs)\u001b[0m\n\u001b[1;32m    263\u001b[0m         \u001b[0;31m# as numpy does not directly support timezones.\u001b[0m\u001b[0;34m\u001b[0m\u001b[0;34m\u001b[0m\u001b[0m\n\u001b[1;32m    264\u001b[0m         \u001b[0mkwargs\u001b[0m\u001b[0;34m[\u001b[0m\u001b[0;34m\"datetime_as_string\"\u001b[0m\u001b[0;34m]\u001b[0m \u001b[0;34m=\u001b[0m \u001b[0;32mTrue\u001b[0m\u001b[0;34m\u001b[0m\u001b[0;34m\u001b[0m\u001b[0m\n\u001b[0;32m--> 265\u001b[0;31m     result = read_func(\n\u001b[0m\u001b[1;32m    266\u001b[0m         \u001b[0mpath_or_buffer\u001b[0m\u001b[0;34m,\u001b[0m\u001b[0;34m\u001b[0m\u001b[0;34m\u001b[0m\u001b[0m\n\u001b[1;32m    267\u001b[0m         \u001b[0mlayer\u001b[0m\u001b[0;34m=\u001b[0m\u001b[0mlayer\u001b[0m\u001b[0;34m,\u001b[0m\u001b[0;34m\u001b[0m\u001b[0;34m\u001b[0m\u001b[0m\n",
            "\u001b[0;32m/usr/local/lib/python3.11/dist-packages/pyogrio/raw.py\u001b[0m in \u001b[0;36mread\u001b[0;34m(path_or_buffer, layer, encoding, columns, read_geometry, force_2d, skip_features, max_features, where, bbox, mask, fids, sql, sql_dialect, return_fids, datetime_as_string, **kwargs)\u001b[0m\n\u001b[1;32m    196\u001b[0m     \u001b[0mdataset_kwargs\u001b[0m \u001b[0;34m=\u001b[0m \u001b[0m_preprocess_options_key_value\u001b[0m\u001b[0;34m(\u001b[0m\u001b[0mkwargs\u001b[0m\u001b[0;34m)\u001b[0m \u001b[0;32mif\u001b[0m \u001b[0mkwargs\u001b[0m \u001b[0;32melse\u001b[0m \u001b[0;34m{\u001b[0m\u001b[0;34m}\u001b[0m\u001b[0;34m\u001b[0m\u001b[0;34m\u001b[0m\u001b[0m\n\u001b[1;32m    197\u001b[0m \u001b[0;34m\u001b[0m\u001b[0m\n\u001b[0;32m--> 198\u001b[0;31m     return ogr_read(\n\u001b[0m\u001b[1;32m    199\u001b[0m         \u001b[0mget_vsi_path_or_buffer\u001b[0m\u001b[0;34m(\u001b[0m\u001b[0mpath_or_buffer\u001b[0m\u001b[0;34m)\u001b[0m\u001b[0;34m,\u001b[0m\u001b[0;34m\u001b[0m\u001b[0;34m\u001b[0m\u001b[0m\n\u001b[1;32m    200\u001b[0m         \u001b[0mlayer\u001b[0m\u001b[0;34m=\u001b[0m\u001b[0mlayer\u001b[0m\u001b[0;34m,\u001b[0m\u001b[0;34m\u001b[0m\u001b[0;34m\u001b[0m\u001b[0m\n",
            "\u001b[0;32mpyogrio/_io.pyx\u001b[0m in \u001b[0;36mpyogrio._io.ogr_read\u001b[0;34m()\u001b[0m\n",
            "\u001b[0;32mpyogrio/_io.pyx\u001b[0m in \u001b[0;36mpyogrio._io.ogr_open\u001b[0;34m()\u001b[0m\n",
            "\u001b[0;31mDataSourceError\u001b[0m: ../input/india-gis-data/India States/Indian_states.shp: No such file or directory"
          ]
        }
      ]
    },
    {
      "cell_type": "code",
      "source": [
        "#Our key focus is India.\n",
        "india_df=df[df[\"country\"]==\"India\"]\n",
        "india_df=india_df.reset_index().drop(columns=[\"index\"])\n",
        "india_df.head() # taking india's ores only.\n",
        "india_df[\"state\"]=india_df['state'].replace({'Orissa': 'Odisha', 'Tamil Nadu [Madras]': 'Tamil Nadu'})"
      ],
      "metadata": {
        "execution": {
          "iopub.status.busy": "2022-09-01T14:40:36.924926Z",
          "iopub.execute_input": "2022-09-01T14:40:36.925203Z",
          "iopub.status.idle": "2022-09-01T14:40:36.9511Z",
          "shell.execute_reply.started": "2022-09-01T14:40:36.925167Z",
          "shell.execute_reply": "2022-09-01T14:40:36.950422Z"
        },
        "trusted": true,
        "id": "CaPvIyighcUj",
        "outputId": "a3abed52-ff15-4b18-9754-21f9acf71795",
        "colab": {
          "base_uri": "https://localhost:8080/",
          "height": 211
        }
      },
      "execution_count": 9,
      "outputs": [
        {
          "output_type": "error",
          "ename": "NameError",
          "evalue": "name 'df' is not defined",
          "traceback": [
            "\u001b[0;31m---------------------------------------------------------------------------\u001b[0m",
            "\u001b[0;31mNameError\u001b[0m                                 Traceback (most recent call last)",
            "\u001b[0;32m<ipython-input-9-489c181c598c>\u001b[0m in \u001b[0;36m<cell line: 0>\u001b[0;34m()\u001b[0m\n\u001b[1;32m      1\u001b[0m \u001b[0;31m#Our key focus is India.\u001b[0m\u001b[0;34m\u001b[0m\u001b[0;34m\u001b[0m\u001b[0m\n\u001b[0;32m----> 2\u001b[0;31m \u001b[0mindia_df\u001b[0m\u001b[0;34m=\u001b[0m\u001b[0mdf\u001b[0m\u001b[0;34m[\u001b[0m\u001b[0mdf\u001b[0m\u001b[0;34m[\u001b[0m\u001b[0;34m\"country\"\u001b[0m\u001b[0;34m]\u001b[0m\u001b[0;34m==\u001b[0m\u001b[0;34m\"India\"\u001b[0m\u001b[0;34m]\u001b[0m\u001b[0;34m\u001b[0m\u001b[0;34m\u001b[0m\u001b[0m\n\u001b[0m\u001b[1;32m      3\u001b[0m \u001b[0mindia_df\u001b[0m\u001b[0;34m=\u001b[0m\u001b[0mindia_df\u001b[0m\u001b[0;34m.\u001b[0m\u001b[0mreset_index\u001b[0m\u001b[0;34m(\u001b[0m\u001b[0;34m)\u001b[0m\u001b[0;34m.\u001b[0m\u001b[0mdrop\u001b[0m\u001b[0;34m(\u001b[0m\u001b[0mcolumns\u001b[0m\u001b[0;34m=\u001b[0m\u001b[0;34m[\u001b[0m\u001b[0;34m\"index\"\u001b[0m\u001b[0;34m]\u001b[0m\u001b[0;34m)\u001b[0m\u001b[0;34m\u001b[0m\u001b[0;34m\u001b[0m\u001b[0m\n\u001b[1;32m      4\u001b[0m \u001b[0mindia_df\u001b[0m\u001b[0;34m.\u001b[0m\u001b[0mhead\u001b[0m\u001b[0;34m(\u001b[0m\u001b[0;34m)\u001b[0m \u001b[0;31m# taking india's ores only.\u001b[0m\u001b[0;34m\u001b[0m\u001b[0;34m\u001b[0m\u001b[0m\n\u001b[1;32m      5\u001b[0m \u001b[0mindia_df\u001b[0m\u001b[0;34m[\u001b[0m\u001b[0;34m\"state\"\u001b[0m\u001b[0;34m]\u001b[0m\u001b[0;34m=\u001b[0m\u001b[0mindia_df\u001b[0m\u001b[0;34m[\u001b[0m\u001b[0;34m'state'\u001b[0m\u001b[0;34m]\u001b[0m\u001b[0;34m.\u001b[0m\u001b[0mreplace\u001b[0m\u001b[0;34m(\u001b[0m\u001b[0;34m{\u001b[0m\u001b[0;34m'Orissa'\u001b[0m\u001b[0;34m:\u001b[0m \u001b[0;34m'Odisha'\u001b[0m\u001b[0;34m,\u001b[0m \u001b[0;34m'Tamil Nadu [Madras]'\u001b[0m\u001b[0;34m:\u001b[0m \u001b[0;34m'Tamil Nadu'\u001b[0m\u001b[0;34m}\u001b[0m\u001b[0;34m)\u001b[0m\u001b[0;34m\u001b[0m\u001b[0;34m\u001b[0m\u001b[0m\n",
            "\u001b[0;31mNameError\u001b[0m: name 'df' is not defined"
          ]
        }
      ]
    },
    {
      "cell_type": "code",
      "source": [
        "polygon = Polygon([(30, 0), (30, 90), (180, 90), (180, 0), (30,0)])\n",
        "poly_gdf = geo.GeoDataFrame([1], geometry=[polygon], crs=world.crs)\n",
        "fig, (ax1,ax2) = plt.subplots(1,2,figsize=(20, 10))\n",
        "world.plot(ax=ax1)\n",
        "poly_gdf.boundary.plot(ax=ax1, color=\"brown\")\n",
        "ax1.set_title(\"Asia in World Map\", fontsize=20)\n",
        "ax1.set_axis_off()\n",
        "\n",
        "world.clip(polygon).plot(ax=ax2, color=\"lightpink\")\n",
        "world.boundary.plot(ax=ax2)\n",
        "shp_gdf.boundary.plot(ax=ax2, color=\"brown\")\n",
        "\n",
        "ax2.set_title(\"Asia in World(Asia filled in color)\", fontsize=20)\n",
        "ax2.set_axis_off()\n",
        "plt.show()\n"
      ],
      "metadata": {
        "execution": {
          "iopub.status.busy": "2022-09-01T14:40:36.952367Z",
          "iopub.execute_input": "2022-09-01T14:40:36.952766Z",
          "iopub.status.idle": "2022-09-01T14:40:38.015206Z",
          "shell.execute_reply.started": "2022-09-01T14:40:36.952731Z",
          "shell.execute_reply": "2022-09-01T14:40:38.014443Z"
        },
        "trusted": true,
        "id": "Xmzp4FPIhcUj"
      },
      "execution_count": null,
      "outputs": []
    },
    {
      "cell_type": "code",
      "source": [
        "world = geo.read_file(geo.datasets.get_path('naturalearth_lowres'))\n",
        "\n",
        "# Asia.\n",
        "ax = world[world.continent == 'Asia'].plot(\n",
        "    color='white', edgecolor='black')\n",
        "\n",
        "# We can now plot our ``GeoDataFrame``.\n",
        "gdf.plot(ax=ax, color='brown')\n",
        "\n",
        "plt.title(\"India's mineral ores\")\n",
        "\n",
        "plt.show()"
      ],
      "metadata": {
        "execution": {
          "iopub.status.busy": "2022-09-01T14:40:38.01762Z",
          "iopub.execute_input": "2022-09-01T14:40:38.018076Z",
          "iopub.status.idle": "2022-09-01T14:40:38.435868Z",
          "shell.execute_reply.started": "2022-09-01T14:40:38.018036Z",
          "shell.execute_reply": "2022-09-01T14:40:38.435197Z"
        },
        "trusted": true,
        "id": "bbzBd05MhcUj",
        "outputId": "edd1f4a7-3b97-44d7-c82d-10bc5f9d271e",
        "colab": {
          "base_uri": "https://localhost:8080/",
          "height": 349
        }
      },
      "execution_count": 10,
      "outputs": [
        {
          "output_type": "error",
          "ename": "AttributeError",
          "evalue": "The geopandas.dataset has been deprecated and was removed in GeoPandas 1.0. You can get the original 'naturalearth_lowres' data from https://www.naturalearthdata.com/downloads/110m-cultural-vectors/.",
          "traceback": [
            "\u001b[0;31m---------------------------------------------------------------------------\u001b[0m",
            "\u001b[0;31mAttributeError\u001b[0m                            Traceback (most recent call last)",
            "\u001b[0;32m<ipython-input-10-649bdd16d7c9>\u001b[0m in \u001b[0;36m<cell line: 0>\u001b[0;34m()\u001b[0m\n\u001b[0;32m----> 1\u001b[0;31m \u001b[0mworld\u001b[0m \u001b[0;34m=\u001b[0m \u001b[0mgeo\u001b[0m\u001b[0;34m.\u001b[0m\u001b[0mread_file\u001b[0m\u001b[0;34m(\u001b[0m\u001b[0mgeo\u001b[0m\u001b[0;34m.\u001b[0m\u001b[0mdatasets\u001b[0m\u001b[0;34m.\u001b[0m\u001b[0mget_path\u001b[0m\u001b[0;34m(\u001b[0m\u001b[0;34m'naturalearth_lowres'\u001b[0m\u001b[0;34m)\u001b[0m\u001b[0;34m)\u001b[0m\u001b[0;34m\u001b[0m\u001b[0;34m\u001b[0m\u001b[0m\n\u001b[0m\u001b[1;32m      2\u001b[0m \u001b[0;34m\u001b[0m\u001b[0m\n\u001b[1;32m      3\u001b[0m \u001b[0;31m# Asia.\u001b[0m\u001b[0;34m\u001b[0m\u001b[0;34m\u001b[0m\u001b[0m\n\u001b[1;32m      4\u001b[0m ax = world[world.continent == 'Asia'].plot(\n\u001b[1;32m      5\u001b[0m     color='white', edgecolor='black')\n",
            "\u001b[0;32m/usr/local/lib/python3.11/dist-packages/geopandas/datasets/__init__.py\u001b[0m in \u001b[0;36mget_path\u001b[0;34m(dataset)\u001b[0m\n\u001b[1;32m     16\u001b[0m     )\n\u001b[1;32m     17\u001b[0m     \u001b[0;32mif\u001b[0m \u001b[0mdataset\u001b[0m \u001b[0;32min\u001b[0m \u001b[0m_prev_available\u001b[0m\u001b[0;34m:\u001b[0m\u001b[0;34m\u001b[0m\u001b[0;34m\u001b[0m\u001b[0m\n\u001b[0;32m---> 18\u001b[0;31m         \u001b[0;32mraise\u001b[0m \u001b[0mAttributeError\u001b[0m\u001b[0;34m(\u001b[0m\u001b[0merror_msg\u001b[0m\u001b[0;34m)\u001b[0m\u001b[0;34m\u001b[0m\u001b[0;34m\u001b[0m\u001b[0m\n\u001b[0m\u001b[1;32m     19\u001b[0m     \u001b[0;32melse\u001b[0m\u001b[0;34m:\u001b[0m\u001b[0;34m\u001b[0m\u001b[0;34m\u001b[0m\u001b[0m\n\u001b[1;32m     20\u001b[0m         error_msg = (\n",
            "\u001b[0;31mAttributeError\u001b[0m: The geopandas.dataset has been deprecated and was removed in GeoPandas 1.0. You can get the original 'naturalearth_lowres' data from https://www.naturalearthdata.com/downloads/110m-cultural-vectors/."
          ]
        }
      ]
    },
    {
      "cell_type": "code",
      "source": [
        "capitals = geo.read_file(geo.datasets.get_path(\"naturalearth_cities\"))#capitals in World\n",
        "clip_caps = capitals.clip(world[world[\"continent\"] == \"Asia\"]) #capitals in Asia\n",
        "\n",
        "# Plot the clipped data\n",
        "# The plot below shows the results of the clip function applied to the capital cities\n",
        "fig, ax = plt.subplots(figsize=(12, 8))\n",
        "clip_caps.plot(ax=ax, color=\"green\")\n",
        "gdf[[\"site_name\",\"geometry\"]].plot(ax=ax,color=\"brown\")\n",
        "world[world[\"continent\"] == \"Asia\"].boundary.plot(ax=ax, color=\"grey\")\n",
        "ax.set_title(\"Capitals of each country in Asia \\n away from indian mineral ores \", fontsize=20)\n",
        "ax.set_axis_off()\n",
        "ax.legend([\"capital city\",\"India's ore present\"],loc=\"lower left\",title=\"Legends\")\n",
        "plt.show()"
      ],
      "metadata": {
        "execution": {
          "iopub.status.busy": "2022-09-01T14:40:38.437154Z",
          "iopub.execute_input": "2022-09-01T14:40:38.437492Z",
          "iopub.status.idle": "2022-09-01T14:40:38.870581Z",
          "shell.execute_reply.started": "2022-09-01T14:40:38.437455Z",
          "shell.execute_reply": "2022-09-01T14:40:38.869887Z"
        },
        "trusted": true,
        "id": "5FiBKq0yhcUk",
        "outputId": "dd37d62f-4946-4949-ab56-9da2fb46ea2d",
        "colab": {
          "base_uri": "https://localhost:8080/",
          "height": 349
        }
      },
      "execution_count": 11,
      "outputs": [
        {
          "output_type": "error",
          "ename": "AttributeError",
          "evalue": "The geopandas.dataset has been deprecated and was removed in GeoPandas 1.0. You can get the original 'naturalearth_cities' data from https://www.naturalearthdata.com/downloads/110m-cultural-vectors/.",
          "traceback": [
            "\u001b[0;31m---------------------------------------------------------------------------\u001b[0m",
            "\u001b[0;31mAttributeError\u001b[0m                            Traceback (most recent call last)",
            "\u001b[0;32m<ipython-input-11-60bd74960b01>\u001b[0m in \u001b[0;36m<cell line: 0>\u001b[0;34m()\u001b[0m\n\u001b[0;32m----> 1\u001b[0;31m \u001b[0mcapitals\u001b[0m \u001b[0;34m=\u001b[0m \u001b[0mgeo\u001b[0m\u001b[0;34m.\u001b[0m\u001b[0mread_file\u001b[0m\u001b[0;34m(\u001b[0m\u001b[0mgeo\u001b[0m\u001b[0;34m.\u001b[0m\u001b[0mdatasets\u001b[0m\u001b[0;34m.\u001b[0m\u001b[0mget_path\u001b[0m\u001b[0;34m(\u001b[0m\u001b[0;34m\"naturalearth_cities\"\u001b[0m\u001b[0;34m)\u001b[0m\u001b[0;34m)\u001b[0m\u001b[0;31m#capitals in World\u001b[0m\u001b[0;34m\u001b[0m\u001b[0;34m\u001b[0m\u001b[0m\n\u001b[0m\u001b[1;32m      2\u001b[0m \u001b[0mclip_caps\u001b[0m \u001b[0;34m=\u001b[0m \u001b[0mcapitals\u001b[0m\u001b[0;34m.\u001b[0m\u001b[0mclip\u001b[0m\u001b[0;34m(\u001b[0m\u001b[0mworld\u001b[0m\u001b[0;34m[\u001b[0m\u001b[0mworld\u001b[0m\u001b[0;34m[\u001b[0m\u001b[0;34m\"continent\"\u001b[0m\u001b[0;34m]\u001b[0m \u001b[0;34m==\u001b[0m \u001b[0;34m\"Asia\"\u001b[0m\u001b[0;34m]\u001b[0m\u001b[0;34m)\u001b[0m \u001b[0;31m#capitals in Asia\u001b[0m\u001b[0;34m\u001b[0m\u001b[0;34m\u001b[0m\u001b[0m\n\u001b[1;32m      3\u001b[0m \u001b[0;34m\u001b[0m\u001b[0m\n\u001b[1;32m      4\u001b[0m \u001b[0;31m# Plot the clipped data\u001b[0m\u001b[0;34m\u001b[0m\u001b[0;34m\u001b[0m\u001b[0m\n\u001b[1;32m      5\u001b[0m \u001b[0;31m# The plot below shows the results of the clip function applied to the capital cities\u001b[0m\u001b[0;34m\u001b[0m\u001b[0;34m\u001b[0m\u001b[0m\n",
            "\u001b[0;32m/usr/local/lib/python3.11/dist-packages/geopandas/datasets/__init__.py\u001b[0m in \u001b[0;36mget_path\u001b[0;34m(dataset)\u001b[0m\n\u001b[1;32m     16\u001b[0m     )\n\u001b[1;32m     17\u001b[0m     \u001b[0;32mif\u001b[0m \u001b[0mdataset\u001b[0m \u001b[0;32min\u001b[0m \u001b[0m_prev_available\u001b[0m\u001b[0;34m:\u001b[0m\u001b[0;34m\u001b[0m\u001b[0;34m\u001b[0m\u001b[0m\n\u001b[0;32m---> 18\u001b[0;31m         \u001b[0;32mraise\u001b[0m \u001b[0mAttributeError\u001b[0m\u001b[0;34m(\u001b[0m\u001b[0merror_msg\u001b[0m\u001b[0;34m)\u001b[0m\u001b[0;34m\u001b[0m\u001b[0;34m\u001b[0m\u001b[0m\n\u001b[0m\u001b[1;32m     19\u001b[0m     \u001b[0;32melse\u001b[0m\u001b[0;34m:\u001b[0m\u001b[0;34m\u001b[0m\u001b[0;34m\u001b[0m\u001b[0m\n\u001b[1;32m     20\u001b[0m         error_msg = (\n",
            "\u001b[0;31mAttributeError\u001b[0m: The geopandas.dataset has been deprecated and was removed in GeoPandas 1.0. You can get the original 'naturalearth_cities' data from https://www.naturalearthdata.com/downloads/110m-cultural-vectors/."
          ]
        }
      ]
    },
    {
      "cell_type": "code",
      "source": [
        "indian_1=india_df[\"state\"].value_counts().to_frame()\n",
        "indian_1=indian_1.reset_index().rename(columns={\"index\":\"state\",\"state\":\"mineral_ore_present\"})\n",
        "\n",
        "merged = shp_gdf.set_index('st_nm').join(indian_1.set_index('state')).fillna(0)\n",
        "fig, ax = plt.subplots(1, figsize=(12, 12))\n",
        "ax.axis('off')\n",
        "ax.set_title('Mineral ores in India (state wise)',\n",
        "             fontdict={'fontsize': '15', 'fontweight' : '3'})\n",
        "fig = merged.plot(column='mineral_ore_present', cmap='Accent', linewidth=0.5, ax=ax, edgecolor='0.2',legend=True)"
      ],
      "metadata": {
        "execution": {
          "iopub.status.busy": "2022-09-01T14:40:38.87187Z",
          "iopub.execute_input": "2022-09-01T14:40:38.872633Z",
          "iopub.status.idle": "2022-09-01T14:40:39.613565Z",
          "shell.execute_reply.started": "2022-09-01T14:40:38.872595Z",
          "shell.execute_reply": "2022-09-01T14:40:39.612829Z"
        },
        "trusted": true,
        "id": "xk5DAnWFhcUk",
        "outputId": "c176a66d-bab7-4d7c-bf5b-81a393a6cef5",
        "colab": {
          "base_uri": "https://localhost:8080/",
          "height": 211
        }
      },
      "execution_count": 13,
      "outputs": [
        {
          "output_type": "error",
          "ename": "NameError",
          "evalue": "name 'india_df' is not defined",
          "traceback": [
            "\u001b[0;31m---------------------------------------------------------------------------\u001b[0m",
            "\u001b[0;31mNameError\u001b[0m                                 Traceback (most recent call last)",
            "\u001b[0;32m<ipython-input-13-678fc3140248>\u001b[0m in \u001b[0;36m<cell line: 0>\u001b[0;34m()\u001b[0m\n\u001b[0;32m----> 1\u001b[0;31m \u001b[0mindian_1\u001b[0m\u001b[0;34m=\u001b[0m\u001b[0mindia_df\u001b[0m\u001b[0;34m[\u001b[0m\u001b[0;34m\"state\"\u001b[0m\u001b[0;34m]\u001b[0m\u001b[0;34m.\u001b[0m\u001b[0mvalue_counts\u001b[0m\u001b[0;34m(\u001b[0m\u001b[0;34m)\u001b[0m\u001b[0;34m.\u001b[0m\u001b[0mto_frame\u001b[0m\u001b[0;34m(\u001b[0m\u001b[0;34m)\u001b[0m\u001b[0;34m\u001b[0m\u001b[0;34m\u001b[0m\u001b[0m\n\u001b[0m\u001b[1;32m      2\u001b[0m \u001b[0mindian_1\u001b[0m\u001b[0;34m=\u001b[0m\u001b[0mindian_1\u001b[0m\u001b[0;34m.\u001b[0m\u001b[0mreset_index\u001b[0m\u001b[0;34m(\u001b[0m\u001b[0;34m)\u001b[0m\u001b[0;34m.\u001b[0m\u001b[0mrename\u001b[0m\u001b[0;34m(\u001b[0m\u001b[0mcolumns\u001b[0m\u001b[0;34m=\u001b[0m\u001b[0;34m{\u001b[0m\u001b[0;34m\"index\"\u001b[0m\u001b[0;34m:\u001b[0m\u001b[0;34m\"state\"\u001b[0m\u001b[0;34m,\u001b[0m\u001b[0;34m\"state\"\u001b[0m\u001b[0;34m:\u001b[0m\u001b[0;34m\"mineral_ore_present\"\u001b[0m\u001b[0;34m}\u001b[0m\u001b[0;34m)\u001b[0m\u001b[0;34m\u001b[0m\u001b[0;34m\u001b[0m\u001b[0m\n\u001b[1;32m      3\u001b[0m \u001b[0;34m\u001b[0m\u001b[0m\n\u001b[1;32m      4\u001b[0m \u001b[0mmerged\u001b[0m \u001b[0;34m=\u001b[0m \u001b[0mshp_gdf\u001b[0m\u001b[0;34m.\u001b[0m\u001b[0mset_index\u001b[0m\u001b[0;34m(\u001b[0m\u001b[0;34m'st_nm'\u001b[0m\u001b[0;34m)\u001b[0m\u001b[0;34m.\u001b[0m\u001b[0mjoin\u001b[0m\u001b[0;34m(\u001b[0m\u001b[0mindian_1\u001b[0m\u001b[0;34m.\u001b[0m\u001b[0mset_index\u001b[0m\u001b[0;34m(\u001b[0m\u001b[0;34m'state'\u001b[0m\u001b[0;34m)\u001b[0m\u001b[0;34m)\u001b[0m\u001b[0;34m.\u001b[0m\u001b[0mfillna\u001b[0m\u001b[0;34m(\u001b[0m\u001b[0;36m0\u001b[0m\u001b[0;34m)\u001b[0m\u001b[0;34m\u001b[0m\u001b[0;34m\u001b[0m\u001b[0m\n\u001b[1;32m      5\u001b[0m \u001b[0mfig\u001b[0m\u001b[0;34m,\u001b[0m \u001b[0max\u001b[0m \u001b[0;34m=\u001b[0m \u001b[0mplt\u001b[0m\u001b[0;34m.\u001b[0m\u001b[0msubplots\u001b[0m\u001b[0;34m(\u001b[0m\u001b[0;36m1\u001b[0m\u001b[0;34m,\u001b[0m \u001b[0mfigsize\u001b[0m\u001b[0;34m=\u001b[0m\u001b[0;34m(\u001b[0m\u001b[0;36m12\u001b[0m\u001b[0;34m,\u001b[0m \u001b[0;36m12\u001b[0m\u001b[0;34m)\u001b[0m\u001b[0;34m)\u001b[0m\u001b[0;34m\u001b[0m\u001b[0;34m\u001b[0m\u001b[0m\n",
            "\u001b[0;31mNameError\u001b[0m: name 'india_df' is not defined"
          ]
        }
      ]
    },
    {
      "cell_type": "code",
      "source": [
        "import folium\n",
        "ores_name=india_df.iloc[:,:3].drop_duplicates(subset=[\"site_name\"])\n",
        "title_html = '''\n",
        "             <h3 align=\"left\" style=\"font-size:16px\"><b>{}</b></h3>\n",
        "             '''.format(\"India's mineral ore(by name)\")\n",
        "merge_df=ores_name.merge(india_df[\"site_name\"].value_counts().to_frame().reset_index().rename(columns={\"site_name\":\"site_present\",\"index\":\"site_name\"}),on=\"site_name\");\n",
        "n = folium.Map(location=[22,80], tiles=\"OpenStreetMap\", zoom_start=4,width=1000,height=800)\n",
        "for i in range(0,len(merge_df)):\n",
        "    folium.CircleMarker(\n",
        "        location=[merge_df.iloc[i]['latitude'], merge_df.iloc[i]['longitude']],\n",
        "        popup=merge_df.iloc[i]['site_name'],tooltip=merge_df.iloc[i]['site_name'],\n",
        "        radius=float(merge_df.iloc[i]['site_present'])*1,\n",
        "        color='#69b3a2',\n",
        "        fill=True,\n",
        "        fill_color='brown',\n",
        "    ).add_to(n)\n",
        "n.get_root().html.add_child(folium.Element(title_html))\n",
        "n"
      ],
      "metadata": {
        "execution": {
          "iopub.status.busy": "2022-09-01T14:40:39.614788Z",
          "iopub.execute_input": "2022-09-01T14:40:39.615117Z",
          "iopub.status.idle": "2022-09-01T14:40:41.892633Z",
          "shell.execute_reply.started": "2022-09-01T14:40:39.61508Z",
          "shell.execute_reply": "2022-09-01T14:40:41.892004Z"
        },
        "trusted": true,
        "id": "f9GITQgEhcUk",
        "outputId": "89633312-e0b3-466f-809a-a1a6a707c574",
        "colab": {
          "base_uri": "https://localhost:8080/",
          "height": 211
        }
      },
      "execution_count": 12,
      "outputs": [
        {
          "output_type": "error",
          "ename": "NameError",
          "evalue": "name 'india_df' is not defined",
          "traceback": [
            "\u001b[0;31m---------------------------------------------------------------------------\u001b[0m",
            "\u001b[0;31mNameError\u001b[0m                                 Traceback (most recent call last)",
            "\u001b[0;32m<ipython-input-12-486641e0fe2f>\u001b[0m in \u001b[0;36m<cell line: 0>\u001b[0;34m()\u001b[0m\n\u001b[1;32m      1\u001b[0m \u001b[0;32mimport\u001b[0m \u001b[0mfolium\u001b[0m\u001b[0;34m\u001b[0m\u001b[0;34m\u001b[0m\u001b[0m\n\u001b[0;32m----> 2\u001b[0;31m \u001b[0mores_name\u001b[0m\u001b[0;34m=\u001b[0m\u001b[0mindia_df\u001b[0m\u001b[0;34m.\u001b[0m\u001b[0miloc\u001b[0m\u001b[0;34m[\u001b[0m\u001b[0;34m:\u001b[0m\u001b[0;34m,\u001b[0m\u001b[0;34m:\u001b[0m\u001b[0;36m3\u001b[0m\u001b[0;34m]\u001b[0m\u001b[0;34m.\u001b[0m\u001b[0mdrop_duplicates\u001b[0m\u001b[0;34m(\u001b[0m\u001b[0msubset\u001b[0m\u001b[0;34m=\u001b[0m\u001b[0;34m[\u001b[0m\u001b[0;34m\"site_name\"\u001b[0m\u001b[0;34m]\u001b[0m\u001b[0;34m)\u001b[0m\u001b[0;34m\u001b[0m\u001b[0;34m\u001b[0m\u001b[0m\n\u001b[0m\u001b[1;32m      3\u001b[0m title_html = '''\n\u001b[1;32m      4\u001b[0m              \u001b[0;34m<\u001b[0m\u001b[0mh3\u001b[0m \u001b[0malign\u001b[0m\u001b[0;34m=\u001b[0m\u001b[0;34m\"left\"\u001b[0m \u001b[0mstyle\u001b[0m\u001b[0;34m=\u001b[0m\u001b[0;34m\"font-size:16px\"\u001b[0m\u001b[0;34m>\u001b[0m\u001b[0;34m<\u001b[0m\u001b[0mb\u001b[0m\u001b[0;34m>\u001b[0m\u001b[0;34m{\u001b[0m\u001b[0;34m}\u001b[0m\u001b[0;34m<\u001b[0m\u001b[0;34m/\u001b[0m\u001b[0mb\u001b[0m\u001b[0;34m>\u001b[0m\u001b[0;34m<\u001b[0m\u001b[0;34m/\u001b[0m\u001b[0mh3\u001b[0m\u001b[0;34m>\u001b[0m\u001b[0;34m\u001b[0m\u001b[0;34m\u001b[0m\u001b[0m\n\u001b[1;32m      5\u001b[0m              '''.format(\"India's mineral ore(by name)\")   \n",
            "\u001b[0;31mNameError\u001b[0m: name 'india_df' is not defined"
          ]
        }
      ]
    },
    {
      "cell_type": "markdown",
      "source": [
        "<hr>\n",
        "\n",
        "### <center style=\"text-align:center;background-color: #D7E6AC\"><u>Minerals present in each Indian's State</u></center>"
      ],
      "metadata": {
        "id": "Nv_1yTYIhcUk"
      }
    },
    {
      "cell_type": "code",
      "source": [
        "india_=india_df.loc[:,[\"state\",\"commod1\",\"commod2\",\"commod3\"]]\n",
        "melted_df=pd.melt(india_, id_vars =['state'], value_vars =['commod1',\"commod2\",\"commod3\"])\n",
        "new_df=melted_df.drop_duplicates().dropna()[[\"state\",\"value\"]];\n",
        "new_df1=new_df.set_index([\"state\"]).sort_index()\n",
        "import re\n",
        "new_df1[\"Minerals_present\"]=[re.split(r\"[-;,.\\s]\\s*\", i) for i in new_df1[\"value\"]]\n",
        "new_df2=new_df1.reset_index().groupby(\"state\")[\"Minerals_present\"].sum()\n",
        "new_df3=new_df2.to_frame().reset_index()\n",
        "new_df3[\"Minerals_present\"]=[list(set(i)) for i in new_df3[\"Minerals_present\"]]\n",
        "new_df3[\"Count_of_minerals\"]=[len(i) for i in new_df3[\"Minerals_present\"]]\n",
        "from IPython.display import HTML\n",
        "HTML(new_df3.loc[:,[\"state\",\"Minerals_present\"]].to_html(classes='table table-striped'))"
      ],
      "metadata": {
        "execution": {
          "iopub.status.busy": "2022-09-01T14:40:41.893923Z",
          "iopub.execute_input": "2022-09-01T14:40:41.894887Z",
          "iopub.status.idle": "2022-09-01T14:40:41.937302Z",
          "shell.execute_reply.started": "2022-09-01T14:40:41.894847Z",
          "shell.execute_reply": "2022-09-01T14:40:41.936481Z"
        },
        "trusted": true,
        "id": "BTtT9-2ahcUk"
      },
      "execution_count": null,
      "outputs": []
    },
    {
      "cell_type": "code",
      "source": [
        "#function to return the value with its percent\n",
        "def make_autopct(values):\n",
        "    def my_autopct(pct):\n",
        "        total = sum(values)\n",
        "        val = int(round(pct*total/100.0))\n",
        "        return '{p:.2f}%  ({v:d})'.format(p=pct,v=val)\n",
        "    return my_autopct"
      ],
      "metadata": {
        "execution": {
          "iopub.status.busy": "2022-09-01T14:40:41.938871Z",
          "iopub.execute_input": "2022-09-01T14:40:41.939356Z",
          "iopub.status.idle": "2022-09-01T14:40:41.944134Z",
          "shell.execute_reply.started": "2022-09-01T14:40:41.939309Z",
          "shell.execute_reply": "2022-09-01T14:40:41.943437Z"
        },
        "trusted": true,
        "id": "bLkHiWgzhcUk"
      },
      "execution_count": null,
      "outputs": []
    },
    {
      "cell_type": "code",
      "source": [
        "import matplotlib\n",
        "colors=[k for k,v in matplotlib.colors.cnames.items()][30:48]\n",
        "new_geolist=india_df.dep_type.unique().tolist()\n",
        "new_geo=india_df[[\"site_name\",\"latitude\",\"longitude\",\"dep_type\"]].dropna().set_index(\"dep_type\").reset_index() #deposit type.\n",
        "# creating a geometry column\n",
        "geometry = [Point(xy) for xy in zip(new_geo['longitude'], new_geo['latitude'])]\n",
        "# Coordinate reference system : WGS84\n",
        "crs = {'init': 'epsg:4326'}\n",
        "# Creating a Geographic data frame\n",
        "gdf = geo.GeoDataFrame(new_geo, crs=crs, geometry=geometry)"
      ],
      "metadata": {
        "execution": {
          "iopub.status.busy": "2022-09-01T14:40:41.945712Z",
          "iopub.execute_input": "2022-09-01T14:40:41.946232Z",
          "iopub.status.idle": "2022-09-01T14:40:41.969971Z",
          "shell.execute_reply.started": "2022-09-01T14:40:41.946197Z",
          "shell.execute_reply": "2022-09-01T14:40:41.969308Z"
        },
        "trusted": true,
        "id": "h6vleuTKhcUl"
      },
      "execution_count": null,
      "outputs": []
    },
    {
      "cell_type": "markdown",
      "source": [
        "<hr>\n",
        "\n",
        "### <center style=\"text-align:center;background-color: #D7E6AC\"><u>Work required to extract these minerals </u></center>"
      ],
      "metadata": {
        "id": "h30qdqN0hcUl"
      }
    },
    {
      "cell_type": "code",
      "source": [
        "values=india_df[\"oper_type\"].value_counts().values\n",
        "fig3 = plt.figure(constrained_layout=True,figsize=(20,15))\n",
        "gs = fig3.add_gridspec(3, 3)\n",
        "f3_ax1 = fig3.add_subplot(gs[0, :])\n",
        "sns.barplot(x=\"state\",y=\"Count_of_minerals\",data=new_df3,ax=f3_ax1)\n",
        "f3_ax1.tick_params(labelrotation=45);f3_ax1.set_title(\"Counts of Minerals present in states\")\n",
        "f3_ax2 = fig3.add_subplot(gs[1, :-1])\n",
        "f3_ax2.set_title('Where is Mineral Present',)\n",
        "india_df[\"oper_type\"].value_counts().plot.pie(ax=f3_ax2,autopct=make_autopct(values))\n",
        "f3_ax3 = fig3.add_subplot(gs[1:, -1])\n",
        "f3_ax3.set_title('Map of Different deposit type(excluding not available)')\n",
        "shp_gdf.plot(ax=f3_ax3,color=\"grey\",alpha=0.45)\n",
        "for i,j in zip(new_geolist,colors):\n",
        "    gdf[gdf[\"dep_type\"]==i].plot(ax=f3_ax3,color=j,marker=\"o\",label=i)\n",
        "f3_ax4 = fig3.add_subplot(gs[-1, 0])\n",
        "f3_ax4.set_title('Composition type or Formation')\n",
        "plt.barh(india_df[\"com_type\"].value_counts().keys(), india_df[\"com_type\"].value_counts().values,color=[\"lightpink\",\"lightgreen\",\"skyblue\"])\n",
        "for index, value in enumerate(india_df[\"com_type\"].value_counts().values):\n",
        "    plt.text(value, index,\n",
        "             str(value))\n",
        "f3_ax5 = fig3.add_subplot(gs[-1, -2])\n",
        "f3_ax5.set_title('Different Product Size')\n",
        "india_df.prod_size.value_counts().plot.barh(color=[k for k,v in matplotlib.colors.cnames.items()][30:36],ax=f3_ax5)\n",
        "f3_ax5.yaxis.tick_right()\n",
        "plt.suptitle(\"Various graphs in One\",fontsize=30,x=0.01)\n",
        "plt.show()"
      ],
      "metadata": {
        "execution": {
          "iopub.status.busy": "2022-09-01T14:40:41.971231Z",
          "iopub.execute_input": "2022-09-01T14:40:41.971489Z",
          "iopub.status.idle": "2022-09-01T14:40:50.331347Z",
          "shell.execute_reply.started": "2022-09-01T14:40:41.971457Z",
          "shell.execute_reply": "2022-09-01T14:40:50.330621Z"
        },
        "trusted": true,
        "id": "RbPicgFChcUl"
      },
      "execution_count": null,
      "outputs": []
    },
    {
      "cell_type": "markdown",
      "source": [
        "<hr>\n",
        "\n",
        "### <center  style=\"text-align:center;background-color: #D7E6AC\"><u>Different Deposits present in India</u></center>"
      ],
      "metadata": {
        "id": "5bZvwL0dhcUl"
      }
    },
    {
      "cell_type": "code",
      "source": [
        "fig, ax = plt.subplots(figsize=(20, 12))\n",
        "shp_gdf.plot(color=\"grey\",alpha=0.35,ax=ax)\n",
        "for i,j in zip(new_geolist,colors):\n",
        "    gdf[gdf[\"dep_type\"]==i].plot(color=j,marker=\"o\",label=i,ax=ax)\n",
        "ax.set_axis_off()\n",
        "plt.title(\" Different Deposits in India(Excluding Unknown or NaN) \")\n",
        "plt.legend(prop={\"size\":7},loc=\"upper right\")\n",
        "plt.show()"
      ],
      "metadata": {
        "execution": {
          "iopub.status.busy": "2022-09-01T14:40:50.332658Z",
          "iopub.execute_input": "2022-09-01T14:40:50.333019Z",
          "iopub.status.idle": "2022-09-01T14:40:52.31951Z",
          "shell.execute_reply.started": "2022-09-01T14:40:50.332974Z",
          "shell.execute_reply": "2022-09-01T14:40:52.318814Z"
        },
        "trusted": true,
        "id": "OiG8CAq3hcUl"
      },
      "execution_count": null,
      "outputs": []
    },
    {
      "cell_type": "code",
      "source": [
        "o_gag=india_df[[\"state\",\"gangue\",\"ore\"]]\n",
        "o_gag=o_gag.groupby(\"state\")[\"gangue\",\"ore\"].sum().reset_index().merge(new_df3,on=\"state\")\n",
        "o_gag1=o_gag.loc[:,[\"gangue\",\"ore\",\"Minerals_present\"]]\n",
        "o_gag1=o_gag1[o_gag1[\"ore\"]!=0]"
      ],
      "metadata": {
        "execution": {
          "iopub.status.busy": "2022-09-01T14:40:52.322386Z",
          "iopub.execute_input": "2022-09-01T14:40:52.322868Z",
          "iopub.status.idle": "2022-09-01T14:40:52.336509Z",
          "shell.execute_reply.started": "2022-09-01T14:40:52.32282Z",
          "shell.execute_reply": "2022-09-01T14:40:52.335747Z"
        },
        "trusted": true,
        "id": "pS1L3SZehcUl"
      },
      "execution_count": null,
      "outputs": []
    },
    {
      "cell_type": "markdown",
      "source": [
        "<hr>\n",
        "\n",
        "### <center  style=\"text-align:center;background-color: #D7E6AC\"><u>Mineral Ores present in India</u></center>\n",
        "\n",
        "> Ore is natural rock or sediment that contains one or more valuable minerals, typically containing metals, that can be mined, treated and sold at a profit.Ore is extracted from the earth through mining and treated or refined, often via smelting, to extract the valuable metals or minerals.The grade of ore refers to the concentration of the desired material it contains. The value of the metals or minerals a rock contains must be weighed against the cost of extraction to determine whether it is of sufficiently high grade to be worth mining, and is therefore considered an ore."
      ],
      "metadata": {
        "id": "--SG0f2-hcUm"
      }
    },
    {
      "cell_type": "code",
      "source": [
        "from PIL import Image\n",
        "from io import BytesIO\n",
        "from wordcloud import WordCloud, STOPWORDS, ImageColorGenerator\n",
        "stopwords = set(STOPWORDS)\n",
        "wordcloud = WordCloud(stopwords=stopwords,max_words=150,background_color=\"white\",collocations=False,mode=\"RGBA\").generate(' '.join(o_gag1[\"ore\"])).to_array()\n",
        "plt.figure(figsize=(15,10))\n",
        "plt.imshow(wordcloud, interpolation= 'sinc')\n",
        "plt.axis(\"off\")\n",
        "plt.title(\"Ores Present In India\",fontsize=20)\n",
        "plt.show() #Ores are the those from which we get minerals."
      ],
      "metadata": {
        "execution": {
          "iopub.status.busy": "2022-09-01T14:40:52.337971Z",
          "iopub.execute_input": "2022-09-01T14:40:52.338266Z",
          "iopub.status.idle": "2022-09-01T14:40:53.080422Z",
          "shell.execute_reply.started": "2022-09-01T14:40:52.338233Z",
          "shell.execute_reply": "2022-09-01T14:40:53.079818Z"
        },
        "trusted": true,
        "id": "gm4Y54gFhcUm"
      },
      "execution_count": null,
      "outputs": []
    },
    {
      "cell_type": "markdown",
      "source": [
        "<hr>\n",
        "\n",
        "### <center style=\"text-align:center;background-color: #D7E6AC\"><u>Gangues present in Indian mineral ores</u></center>\n",
        "\n",
        "> In mining, gangue (/ɡæŋ/) is the commercially worthless material that surrounds, or is closely mixed with, a wanted mineral in an ore deposit. It is thus distinct from overburden, which is the waste rock or materials overlying an ore or mineral body that are displaced during mining without being processed, and from tailings, which is rock already stripped of valuable minerals."
      ],
      "metadata": {
        "id": "_Mo-FyuqhcUm"
      }
    },
    {
      "cell_type": "code",
      "source": [
        "import requests\n",
        "empty_list=[]\n",
        "new_list=o_gag1[\"gangue\"].drop_duplicates().tolist()\n",
        "new_list.pop(1)\n",
        "new_sum=[re.split(r\"[-;,.\\s]\\s*\", i) for i in new_list]\n",
        "for elem1 in new_sum:\n",
        "    for elem2 in elem1:\n",
        "        empty_list.append(elem2)\n",
        "\n",
        "stopwords = set(STOPWORDS)\n",
        "response = requests.get(\"https://mpng.subpng.com/20180928/yt/kisspng-vector-graphics-states-of-india-map-clip-art-national-labour-market-information-system-nation-5baebd72aeca78.270318021538178418716.jpg\")\n",
        "img = Image.open(BytesIO(response.content))\n",
        "mask = np.array(img)\n",
        "wordcloud = WordCloud(stopwords=stopwords,max_words=50,background_color=\"white\",mask=mask,repeat=\"None\",collocations=False).generate(' '.join(empty_list)).to_array()\n",
        "plt.figure(figsize=(15,10))\n",
        "plt.imshow(wordcloud, interpolation= 'sinc')\n",
        "plt.axis(\"off\")\n",
        "plt.title(\"Gangues Present In Indian ores\",fontsize=20)\n",
        "plt.show()#change image as you like image as mask is Indian map."
      ],
      "metadata": {
        "execution": {
          "iopub.status.busy": "2022-09-01T14:40:53.081777Z",
          "iopub.execute_input": "2022-09-01T14:40:53.082196Z",
          "iopub.status.idle": "2022-09-01T14:40:56.697443Z",
          "shell.execute_reply.started": "2022-09-01T14:40:53.082163Z",
          "shell.execute_reply": "2022-09-01T14:40:56.694497Z"
        },
        "trusted": true,
        "id": "mVBJEWnhhcUn"
      },
      "execution_count": null,
      "outputs": []
    },
    {
      "cell_type": "markdown",
      "source": [
        "<hr>\n",
        "\n",
        "### <center style=\"text-align:center;background-color: #D7E6AC\"><u>Development Status in India(statewise)</u></center>"
      ],
      "metadata": {
        "id": "NikOLksUhcUn"
      }
    },
    {
      "cell_type": "code",
      "source": [
        "!pip install upsetplot"
      ],
      "metadata": {
        "execution": {
          "iopub.status.busy": "2022-09-01T14:40:56.698818Z",
          "iopub.execute_input": "2022-09-01T14:40:56.699102Z",
          "iopub.status.idle": "2022-09-01T14:41:11.094665Z",
          "shell.execute_reply.started": "2022-09-01T14:40:56.699068Z",
          "shell.execute_reply": "2022-09-01T14:41:11.093759Z"
        },
        "trusted": true,
        "id": "hW9XiuKzhcUn"
      },
      "execution_count": null,
      "outputs": []
    },
    {
      "cell_type": "code",
      "source": [
        "from upsetplot import UpSet\n",
        "india_new=india_df.loc[:,[\"dev_stat\",\"state\"]].dropna(subset=[\"state\"]).fillna(\"Unknown\")\n",
        "india_new=india_new.set_index(\"state\")\n",
        "india_new=pd.get_dummies(india_new).reset_index().set_index([\"dev_stat_Occurrence\",\"dev_stat_Past Producer\",\n",
        "                                                             \"dev_stat_Plant\",\"dev_stat_Producer\",\"dev_stat_Prospect\",\"dev_stat_Unknown\"])\n",
        "upset = UpSet(india_new,\n",
        "              intersection_plot_elements=0, orientation=\"vertical\",facecolor=\"black\")  # disable the default bar chart\n",
        "upset.add_stacked_bars(by=\"state\", colors=colors,\n",
        "                       title=\"Count by states\",elements=50)\n",
        "upset.plot()\n",
        "fig.legend(fontsize=6, bbox_to_anchor=(0.5, 0.5, 0.1, 0.4),ncol=5)\n",
        "plt.suptitle(\"Development status in each state\",fontsize=15)\n",
        "plt.show()"
      ],
      "metadata": {
        "execution": {
          "iopub.status.busy": "2022-09-01T14:41:11.096547Z",
          "iopub.execute_input": "2022-09-01T14:41:11.09688Z",
          "iopub.status.idle": "2022-09-01T14:41:12.259606Z",
          "shell.execute_reply.started": "2022-09-01T14:41:11.096839Z",
          "shell.execute_reply": "2022-09-01T14:41:12.258868Z"
        },
        "trusted": true,
        "id": "uwmxgbU7hcUn"
      },
      "execution_count": null,
      "outputs": []
    },
    {
      "cell_type": "markdown",
      "source": [
        "<hr>\n",
        "\n",
        "### <center style=\"text-align:center;background-color: #D7E6AC\"><u>Mineral Sites present in India(statewise)</u></center>"
      ],
      "metadata": {
        "id": "d_1qcLKThcUo"
      }
    },
    {
      "cell_type": "code",
      "source": [
        "other_df=pd.read_csv(\"../input/poptable/poptable.csv\")[[\"State.Name\",\"latitude\",\"longitude\"]]\n",
        "other_df=other_df.set_axis(['state', \"latitude\",\"longitude\"], axis=1, inplace=False)\n",
        "listq=[i.rstrip() for i in other_df[\"state\"]]\n",
        "other_df[\"state\"] = listq\n",
        "other_df.state=other_df.state.replace({\"ORISSA\":'ODISHA'})\n",
        "df2=india_df.loc[:,[\"state\",\"work_type\"]].fillna(\"Unknown\")\n",
        "example=df2.groupby([\"state\",\"work_type\"])[\"work_type\"].count()\n",
        "example1=example.to_frame()\n",
        "example1=example1.rename(columns={\"work_type\":\"count_of_work\"}).reset_index()\n",
        "example1.state=[i.upper() for i in example1.state.tolist()]\n",
        "new_merged=example1.merge(other_df,on=\"state\")\n",
        "temp = []\n",
        "for count, item in enumerate(new_merged.iterrows()):\n",
        "    # if count in comp_rows:\n",
        "    temp.append( list(item[1]))\n",
        "\n",
        "temp=[['ANDHRA PRADESH','Underground',0,14.750429,78.570026],\n",
        " [\"ASSAM\",\"Surface\",0,26.749981,94.216667],\n",
        " [\"ASSAM\",\"Underground\",0,26.749981,94.216667],\n",
        " [\"GOA\",\"Surface\",0,15.491997,73.818001],\n",
        " [\"GOA\",\"Underground\",0,15.491997,73.818001],\n",
        " [\"HIMACHAL PRADESH\",\"Surface\",0,31.100025,77.166597],\n",
        " [\"HIMACHAL PRADESH\",\"Underground\",0,31.100025,77.166597],\n",
        " [\"JAMMU AND KASHMIR\",\"Surface\",0,34.299959,74.466658],\n",
        " [\"JAMMU AND KASHMIR\",\"Underground\",0,34.299959,74.466658],\n",
        " [\"KERALA\",\"Underground\",0,8.900373,76.569993],\n",
        " [\"MAHARASHTRA\",\"Surface\",0,19.250232,73.160175],\n",
        " [\"MANIPUR\",\"Underground\",0,24.799971,93.950017],\n",
        " [\"MANIPUR\",\"Surface\",0,24.799971,93.950017],\n",
        " [\"NAGALAND\",\"Underground\",0,25.666998,94.11657],\n",
        " [\"NAGALAND\",\"Surface\",0,25.666998,94.11657],\n",
        " [\"ODISHA\",\"Underground\",0,19.82043,85.900017],\n",
        " [\"PUNJAB\",\"Surface\",0,31.519974,75.980003],\n",
        " [\"PUNJAB\",\"Underground\",0,31.519974,75.980003],\n",
        " [\"TAMIL NADU\",\"Surface\",0,12.920386,79.150042],\n",
        " [\"TAMIL NADU\",\"Underground\",0,12.920386,79.150042],\n",
        " [\"WEST BENGAL\",\"Surface\",0,22.58039,88.329947],\n",
        " [\"WEST BENGAL\",\"Underground\",0,22.58039,88.329947],\n",
        " [\"UTTAR PRADESH\",\"Surface\",0,27.599981,78.050006]\n",
        "]\n",
        "\n",
        "new_df_merged=new_merged.append(pd.DataFrame(temp, columns=[\"state\",\"work_type\",\"count_of_work\",\"latitude\",\"longitude\"]))\n",
        "new_df_merged.reset_index().drop(columns=[\"index\"])\n",
        "new_df_merged[\"geometry\"] = [Point(xy) for xy in zip(new_df_merged['longitude'], new_df_merged['latitude'])]\n",
        "gdf1 = geo.GeoDataFrame(new_df_merged, crs=crs, geometry=new_df_merged[\"geometry\"]);gdf1"
      ],
      "metadata": {
        "execution": {
          "iopub.status.busy": "2022-09-01T14:41:12.261132Z",
          "iopub.execute_input": "2022-09-01T14:41:12.261411Z",
          "iopub.status.idle": "2022-09-01T14:41:12.328473Z",
          "shell.execute_reply.started": "2022-09-01T14:41:12.261374Z",
          "shell.execute_reply": "2022-09-01T14:41:12.327793Z"
        },
        "trusted": true,
        "id": "u1DKJLZAhcUo"
      },
      "execution_count": null,
      "outputs": []
    },
    {
      "cell_type": "code",
      "source": [
        "from plotnine import *\n",
        "import plotnine as p9\n",
        "\n",
        "(ggplot(gdf1, aes('state', 'work_type', fill='count_of_work'))\n",
        " + geom_tile(aes(width=.95, height=.95))\n",
        " +  scale_fill_gradient2(low = \"#075AFF\",\n",
        "                       mid = \"#FFFFCC\",\n",
        "                       high = \"#FF0000\") +\n",
        "  coord_fixed()\n",
        " + geom_text(aes(label='count_of_work'), size=12,color=\"black\")\n",
        " + labs(title=\"Sites available in states(as per there work requirement) \",fontweight='bold', size=10, color=\"Black\")\n",
        " + theme(figure_size=(20, 10), text=element_text(size=14))\n",
        " + theme(axis_text_x=element_text(rotation=90, hjust=1))\n",
        ")"
      ],
      "metadata": {
        "execution": {
          "iopub.status.busy": "2022-09-01T14:41:12.329929Z",
          "iopub.execute_input": "2022-09-01T14:41:12.330412Z",
          "iopub.status.idle": "2022-09-01T14:41:14.31124Z",
          "shell.execute_reply.started": "2022-09-01T14:41:12.330376Z",
          "shell.execute_reply": "2022-09-01T14:41:14.310576Z"
        },
        "trusted": true,
        "id": "F8bWH6OahcUo"
      },
      "execution_count": null,
      "outputs": []
    },
    {
      "cell_type": "markdown",
      "source": [
        "<hr>\n",
        "\n",
        "### <center style=\"text-align:center;background-color: #D7E6AC\"><u>Mineral Ores as Per their Work_type</u></center>"
      ],
      "metadata": {
        "id": "KMgkO6pRhcUv"
      }
    },
    {
      "cell_type": "code",
      "source": [
        "new_df_merged[\"to_fit_inmap\"]=new_df_merged[\"count_of_work\"]/50;new_df_merged.sort_values(by=[\"state\",\"work_type\"]).reset_index().drop(columns=[\"index\"])\n",
        "fig = plt.figure(figsize=(20,15))\n",
        "ax_map = fig.add_axes([0, 0, 1, 1])\n",
        "shp_gdf.plot(ax=ax_map)\n",
        "ax_bar1 = fig.add_axes([0.5*(1+-45/180) , 0.5*(1+50/90) , 0.05, 0.05])\n",
        "ax_bar1.bar([1, 2, 3], [0.14,0,0], color=[ 'C3','C1','C2'])\n",
        "ax_bar1.set_axis_off()\n",
        "ax_bar1.legend([\"Unknown\",\"Surface\",\"Underground\"], borderpad=2)\n",
        "ax_bar = fig.add_axes([0.5*(1+-90/180) , 0.5*(1+-10/90) , 0.05, 0.05])\n",
        "ax_bar.bar([1, 2, 3], [0,0,0.36], color=['C1', 'C2', 'C3'])\n",
        "ax_bar.set_axis_off()\n",
        "ax_bar = fig.add_axes([0.5*(1+20/180) , 0.5*(1+10/90) , 0.05, 0.05])\n",
        "ax_bar.bar([1, 2, 3], [0.04,0.06,1.58], color=['C1', 'C2', 'C3'])\n",
        "ax_bar.set_axis_off()\n",
        "ax_bar = fig.add_axes([0.5*(1+50/180) , 0.5*(1+25/90) , 0.05, 0.05])\n",
        "ax_bar.bar([1, 2, 3], [0,0,0.04], color=['C1', 'C2', 'C3'])\n",
        "ax_bar.set_axis_off()\n",
        "ax_bar = fig.add_axes([0.5*(1+-65/180) , 0.5*(1+-50/90) , 0.05, 0.05])\n",
        "ax_bar.bar([1, 2, 3], [0.04,0.02,1.08], color=['C1', 'C2', 'C3'])\n",
        "ax_bar.set_axis_off()\n",
        "ax_bar = fig.add_axes([0.5*(1+-20/180) , 0.5*(1+-30/90) , 0.05, 0.05])\n",
        "ax_bar.bar([1, 2, 3], [0.08,0,1.28], color=['C1', 'C2', 'C3'])\n",
        "ax_bar.set_axis_off()\n",
        "ax_bar = fig.add_axes([0.5*(1+30/180) , 0.5*(1+0/90) , 0.05, 0.05])\n",
        "ax_bar.bar([1, 2, 3], [0,0,0.20], color=['C1', 'C2', 'C3'])\n",
        "ax_bar.set_axis_off()\n",
        "ax_bar = fig.add_axes([0.5*(1+-35/180) , 0.5*(1+20/90) , 0.05, 0.05])\n",
        "ax_bar.bar([1, 2, 3], [0,0.02,0.06], color=['C1', 'C2', 'C3'])\n",
        "ax_bar.set_axis_off()\n",
        "ax_bar = fig.add_axes([0.5*(1+-40/180) , 0.5*(1+-60/90) , 0.05, 0.05])\n",
        "ax_bar.bar([1, 2, 3], [0,0.02,0.14], color=['C1', 'C2', 'C3'])\n",
        "ax_bar.set_axis_off()\n",
        "ax_bar = fig.add_axes([0.5*(1+5/180) , 0.5*(1+-15/90) , 0.05, 0.05])\n",
        "ax_bar.bar([1, 2, 3], [0.16,0,3.58], color=['C1', 'C2', 'C3'])\n",
        "ax_bar.set_axis_off()\n",
        "ax_bar = fig.add_axes([0.5*(1+-70/180) , 0.5*(1+50/90) , 0.05, 0.05])\n",
        "ax_bar.bar([1, 2, 3], [0,0,0.12], color=['C1', 'C2', 'C3'])\n",
        "ax_bar.set_axis_off()\n",
        "ax_bar = fig.add_axes([0.5*(1+-80/180) , 0.5*(1+20/90) , 0.05, 0.05])\n",
        "ax_bar.bar([1, 2, 3], [0.04,0.06,0.98], color=['C1', 'C2', 'C3'])\n",
        "ax_bar.set_axis_off()\n",
        "ax_bar = fig.add_axes([0.5*(1+80/180) , 0.5*(1+25/90) , 0.05, 0.05])\n",
        "ax_bar.bar([1, 2, 3], [0,0,0.02], color=['C1', 'C2', 'C3'])\n",
        "ax_bar.set_axis_off()\n",
        "ax_bar = fig.add_axes([0.5*(1+70/180) , 0.5*(1+15/90) , 0.05, 0.05])\n",
        "ax_bar.bar([1, 2, 3], [0,0,0.06], color=['C1', 'C2', 'C3'])\n",
        "ax_bar.set_axis_off()\n",
        "ax_bar2 = fig.add_axes([0.5*(1+-70/180) , 0.5*(1+-20/90) , 0.05, 0.05])\n",
        "ax_bar2.bar([1, 2, 3], [0.08,0.80,0], color=['C2', 'C3' ,'C1'])\n",
        "ax_bar2.legend([\"Underground\",\"Unknown\",\"Surface\"], borderpad=2)\n",
        "ax_bar2.set_axis_off()\n",
        "ax_bar = fig.add_axes([0.5*(1+-50/180) , 0.5*(1+0/90) , 0.05, 0.05])\n",
        "ax_bar.bar([1, 2, 3], [0.08,0.04,1.90], color=['C1', 'C2', 'C3'])\n",
        "ax_bar.set_axis_off()\n",
        "ax_bar = fig.add_axes([0.5*(1+-65/180) , 0.5*(1+-70/90) , 0.05, 0.05])\n",
        "ax_bar.bar([1, 2, 3], [0.06,0,1.28], color=['C1', 'C2', 'C3'])\n",
        "ax_bar.set_axis_off()\n",
        "ax_bar = fig.add_axes([0.5*(1+-70/180) , 0.5*(1+70/90) , 0.05, 0.05])\n",
        "ax_bar.bar([1, 2, 3], [0,0,0.38], color=['C1', 'C2', 'C3'])\n",
        "ax_bar.set_axis_off()\n",
        "ax_bar = fig.add_axes([0.5*(1+-65/180) , 0.5*(1+-70/90) , 0.05, 0.05])\n",
        "ax_bar.bar([1, 2, 3], [0.06,0,.28], color=['C1', 'C2', 'C3'])\n",
        "ax_bar.set_axis_off()\n",
        "plt.suptitle(\"Barplot for Worktype on Map\")\n",
        "ax_bar.legend([\"Surface\",\"Underground\",\"Unknown\"], borderpad=2)\n",
        "ax_map.set_axis_off()\n",
        "plt.show()"
      ],
      "metadata": {
        "_kg_hide-input": true,
        "execution": {
          "iopub.status.busy": "2022-09-01T14:41:14.315598Z",
          "iopub.execute_input": "2022-09-01T14:41:14.315862Z",
          "iopub.status.idle": "2022-09-01T14:41:15.668213Z",
          "shell.execute_reply.started": "2022-09-01T14:41:14.315824Z",
          "shell.execute_reply": "2022-09-01T14:41:15.667509Z"
        },
        "trusted": true,
        "id": "63sQs4y9hcUv"
      },
      "execution_count": null,
      "outputs": []
    },
    {
      "cell_type": "markdown",
      "source": [
        "### <center style=\"text-align:center;background-color: #D7E6AC\"><u>Conclusions</u></center>\n",
        "\n",
        "> 1. USA,Mexico,Chile,Peru,Argentina has most mineral rich sites.\n",
        "> 2. Odisha is East is very prominent place for minerals.\n",
        "> 3. Most of the project are still under prospect belt.\n",
        "> 4. Abundent gaunge is Quartz\n",
        "> 5. India has 20 states full of minerals quantity wise.\n",
        "> 6. About 66% mineral sites in India are still unknown ."
      ],
      "metadata": {
        "id": "KrXVmvehhcUw"
      }
    },
    {
      "cell_type": "markdown",
      "source": [
        "<hr>\n",
        "\n",
        "### <center style=\"text-align:center;background-color: #D7E6AC\"><u>References</u></center>\n",
        "\n",
        "* https://en.wikipedia.org/wiki/Ore#Ore_deposits\n",
        "* https://en.wikipedia.org/wiki/Gangue\n",
        "* https://en.wikipedia.org/wiki/Mining_in_India\n",
        "* https://www.mines.gov.in/\n",
        "* https://www.usgs.gov\n",
        "* https://odisha.gov.in/mines-and-minerals\n",
        "* https://education.nationalgeographic.org/\n",
        "\n",
        "<hr>"
      ],
      "metadata": {
        "id": "PwqosmdwhcUw"
      }
    },
    {
      "cell_type": "markdown",
      "source": [
        "<p style=\"text-align:center\"><img src=\"https://i.imgur.com/kFACSi4.jpeg\"></p>\n",
        "\n",
        "<h2 style=\"text-align:center\">Minerals Intensify Only When you <img src=\"https://emojipedia-us.s3.dualstack.us-west-1.amazonaws.com/thumbs/120/whatsapp/326/thumbs-up_1f44d.png\"> the Notebook</h2>"
      ],
      "metadata": {
        "id": "-pPwIs7IhcUw"
      }
    }
  ]
}